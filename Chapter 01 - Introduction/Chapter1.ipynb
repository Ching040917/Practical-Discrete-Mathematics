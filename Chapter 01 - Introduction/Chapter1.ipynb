{
  "cells": [
    {
      "cell_type": "markdown",
      "metadata": {
        "id": "view-in-github",
        "colab_type": "text"
      },
      "source": [
        "<a href=\"https://colab.research.google.com/github/Ching040917/Practical-Discrete-Mathematics/blob/master/Chapter%2001%20-%20Introduction/Chapter1.ipynb\" target=\"_parent\"><img src=\"https://colab.research.google.com/assets/colab-badge.svg\" alt=\"Open In Colab\"/></a>"
      ]
    },
    {
      "cell_type": "markdown",
      "metadata": {
        "id": "kHpOeDyhWMMF"
      },
      "source": [
        "# Chapter 1 - Introduction: Key Concepts, Notation, Set Theory, Relations, and Functions\n",
        "\n",
        "This notebook contains code accompanying Chapter 1 Introduction: Key Concepts, Notation, Set Theory, Relations, and Functions in *Practical Discrete Mathematics* by Ryan T. White and Archana Tikayat Ray\n",
        "\n",
        "## Functions and Relations\n",
        "\n",
        "### The `sort()` function"
      ]
    },
    {
      "cell_type": "code",
      "source": [],
      "metadata": {
        "id": "6GBMFmJhYhml"
      },
      "execution_count": null,
      "outputs": []
    },
    {
      "cell_type": "code",
      "execution_count": null,
      "metadata": {
        "id": "oG33_iIsWMMJ",
        "outputId": "e17cbfb4-1574-4807-a514-60104746ebe2",
        "colab": {
          "base_uri": "https://localhost:8080/"
        }
      },
      "outputs": [
        {
          "output_type": "stream",
          "name": "stdout",
          "text": [
            "[1, 2, 3, 4, 5, 8, 9, 12]\n",
            "['Brandon', 'Elise', 'Eugene', 'Kumar', 'Wyatt']\n"
          ]
        }
      ],
      "source": [
        "numbers = [3, 1, 4, 12, 8, 5, 2, 9]\n",
        "names = ['Wyatt', 'Brandon', 'Kumar', 'Eugene', 'Elise']\n",
        "\n",
        "# Apply the sort() function to the lists\n",
        "numbers.sort()\n",
        "names.sort()\n",
        "\n",
        "# Display the output\n",
        "print(numbers)\n",
        "print(names)"
      ]
    },
    {
      "cell_type": "markdown",
      "metadata": {
        "id": "YyigNV5aWMMO"
      },
      "source": [
        "### The `shuffle()` function"
      ]
    },
    {
      "cell_type": "code",
      "execution_count": null,
      "metadata": {
        "id": "MFlK8I-7WMMO",
        "outputId": "e95bfc74-4d3b-4e6f-9bf1-2d558f17af02"
      },
      "outputs": [
        {
          "name": "stdout",
          "output_type": "stream",
          "text": [
            "[12, 2, 1, 5, 9, 3, 8, 4]\n",
            "[4, 2, 8, 3, 1, 12, 5, 9]\n",
            "[4, 5, 1, 9, 3, 8, 12, 2]\n",
            "[9, 12, 2, 8, 5, 3, 4, 1]\n",
            "[9, 8, 4, 3, 12, 1, 5, 2]\n"
          ]
        }
      ],
      "source": [
        "import random\n",
        "\n",
        "# Set a random seed so the code is reproducible\n",
        "random.seed(1)\n",
        "\n",
        "# Run the random.shuffle() function 5 times and display the outputs\n",
        "for i in range(0,5):\n",
        "    numbers = [3, 1, 4, 12, 8, 5, 2, 9]\n",
        "    random.shuffle(numbers)\n",
        "    print(numbers)"
      ]
    },
    {
      "cell_type": "markdown",
      "source": [
        "**Questions1: randomly create 2 set of number, find the common numbers in the 2 sets **\n"
      ],
      "metadata": {
        "id": "FMKKgVTXZqy2"
      }
    },
    {
      "cell_type": "code",
      "source": [
        "import random\n",
        "\n",
        "# Function to create a set of random numbers\n",
        "def create_random_set(size, start, end):\n",
        "    return set(random.randint(start, end) for _ in range(size))\n",
        "\n",
        "# Create two sets of random numbers\n",
        "set1 = create_random_set(10, 1, 20)\n",
        "set2 = create_random_set(10, 1, 20)\n",
        "\n",
        "# Find the common numbers in the two sets\n",
        "common_numbers = set1.intersection(set2)\n",
        "\n",
        "# Print the sets and the common numbers\n",
        "print(f\"Set 1: {set1}\")\n",
        "print(f\"Set 2: {set2}\")\n",
        "print(f\"Common numbers: {common_numbers}\")\n"
      ],
      "metadata": {
        "id": "_WKR8nihbPLg",
        "outputId": "548f35cb-5a7a-494b-d1fc-c9ffd2d145e1",
        "colab": {
          "base_uri": "https://localhost:8080/"
        }
      },
      "execution_count": null,
      "outputs": [
        {
          "output_type": "stream",
          "name": "stdout",
          "text": [
            "Set 1: {2, 3, 7, 9, 11, 12, 18}\n",
            "Set 2: {4, 5, 6, 10, 11, 12, 13, 14}\n",
            "Common numbers: {11, 12}\n"
          ]
        }
      ]
    },
    {
      "cell_type": "markdown",
      "source": [
        "**Question 2: shuffle the character in your name. For example: Apple Chan. After shuffle: eplepa nhac**"
      ],
      "metadata": {
        "id": "tpSkejphSEHA"
      }
    },
    {
      "cell_type": "code",
      "source": [
        "import random\n",
        "\n",
        "# Function to shuffle the characters in a name\n",
        "def shuffle_name(name):\n",
        "    # Remove spaces and convert the name to a list of characters\n",
        "    char_list = list(name.replace(\" \", \"\"))\n",
        "    # Shuffle the characters\n",
        "    random.shuffle(char_list)\n",
        "    # Join the shuffled characters back into a string\n",
        "    shuffled_name = ''.join(char_list)\n",
        "    return shuffled_name\n",
        "\n",
        "# Set a random seed so the code is reproducible\n",
        "random.seed(1)\n",
        "\n",
        "# Name to be shuffled\n",
        "name = \"Ching Yang\"\n",
        "\n",
        "# Run the shuffle_name function 5 times and display the outputs\n",
        "for i in range(5):\n",
        "    shuffled_name = shuffle_name(name)\n",
        "    print(f\"Shuffled name {i+1}: {shuffled_name}\")\n"
      ],
      "metadata": {
        "id": "0byhWGPKSDoL",
        "outputId": "44d50c9a-60e3-4943-c897-57fcb72dd8b9",
        "colab": {
          "base_uri": "https://localhost:8080/"
        }
      },
      "execution_count": null,
      "outputs": [
        {
          "output_type": "stream",
          "name": "stdout",
          "text": [
            "Shuffled name 1: YangnCghi\n",
            "Shuffled name 2: nYigaCghn\n",
            "Shuffled name 3: inaCghYgn\n",
            "Shuffled name 4: hainngYgC\n",
            "Shuffled name 5: YnignhgCa\n"
          ]
        }
      ]
    },
    {
      "cell_type": "markdown",
      "source": [
        "**Question 3: extract a table from wikipedia https://en.wikipedia.org/wiki/Frieren**"
      ],
      "metadata": {
        "id": "qzIMiHAETaGA"
      }
    },
    {
      "cell_type": "code",
      "source": [
        "import urllib.request\n",
        "from html.parser import HTMLParser\n",
        "\n",
        "class MyHTMLParser(HTMLParser):\n",
        "    def __init__(self):\n",
        "        super().__init__()\n",
        "        self.in_table = False\n",
        "        self.in_row = False\n",
        "        self.in_cell = False\n",
        "        self.table = []\n",
        "        self.current_row = []\n",
        "        self.current_cell = \"\"\n",
        "\n",
        "    def handle_starttag(self, tag, attrs):\n",
        "        if tag == \"table\" and (\"class\", \"wikitable\") in attrs:\n",
        "            self.in_table = True\n",
        "        if self.in_table and tag == \"tr\":\n",
        "            self.in_row = True\n",
        "            self.current_row = []\n",
        "        if self.in_row and tag in [\"td\", \"th\"]:\n",
        "            self.in_cell = True\n",
        "            self.current_cell = \"\"\n",
        "\n",
        "    def handle_endtag(self, tag):\n",
        "        if tag == \"table\":\n",
        "            self.in_table = False\n",
        "        if self.in_table and tag == \"tr\":\n",
        "            self.in_row = False\n",
        "            self.table.append(self.current_row)\n",
        "        if self.in_cell and tag in [\"td\", \"th\"]:\n",
        "            self.in_cell = False\n",
        "            self.current_row.append(self.current_cell.strip())\n",
        "\n",
        "    def handle_data(self, data):\n",
        "        if self.in_cell:\n",
        "            self.current_cell += data\n",
        "\n",
        "# URL of the Wikipedia page\n",
        "url = \"https://en.wikipedia.org/wiki/Frieren\"\n",
        "\n",
        "# Fetch the HTML content of the page\n",
        "response = urllib.request.urlopen(url)\n",
        "html_content = response.read().decode(\"utf-8\")\n",
        "\n",
        "# Parse the HTML content\n",
        "parser = MyHTMLParser()\n",
        "parser.feed(html_content)\n",
        "\n",
        "# Display the extracted table\n",
        "for row in parser.table:\n",
        "    print(row)\n"
      ],
      "metadata": {
        "id": "2_t8Z0XpV9qp",
        "outputId": "567d0cbd-1682-48b9-fcef-79c16d5c4374",
        "colab": {
          "base_uri": "https://localhost:8080/"
        }
      },
      "execution_count": null,
      "outputs": [
        {
          "output_type": "stream",
          "name": "stdout",
          "text": [
            "['Year', 'Award', 'Category', 'Result', 'ref.']\n",
            "['2021', 'New Manga Award', 'Best Manga', '2nd place', '[74]']\n",
            "['14th Manga Taishō', 'Grand Prize', 'Won', '[75][76][77]']\n",
            "['25th Tezuka Osamu Cultural Prize', 'New Creator Prize', '[78][79][80]']\n",
            "['eBook Initiative Japan\\xa0[ja] Manga Award', 'Grand Prize', '2nd place', '[81][82]']\n",
            "['45th Kodansha Manga Award', 'Best Shōnen Manga', 'Nominated', '[83]']\n",
            "['5th Tsutaya Comic Awards', 'Next Hit', '5th place', '[84]']\n",
            "['7th Next Manga Award', 'Print Manga Category', '3rd place', '[85]']\n",
            "['2022', '46th Kodansha Manga Award', 'Best Shōnen Manga', 'Nominated', '[86]']\n",
            "['2023', \"Rakuten Kobo's E-book Manga Award\", 'I Want to Deliver It to the World! Top Recommended Manga', 'Won', '[87]']\n",
            "['69th Shogakukan Manga Award', '—[b]', '[90]']\n",
            "['2024', '48th Kodansha Manga Award', 'Best Shōnen Manga', '[91][92]']\n",
            "['36th Harvey Awards', 'Best Manga', 'Pending', '[93]']\n"
          ]
        }
      ]
    },
    {
      "cell_type": "code",
      "source": [
        "user_name = input(\"Enter your name: \")\n",
        "print(f\"Hello, {user_name}! Welcome to Google Colab.\")"
      ],
      "metadata": {
        "id": "k7-MVWt3XGXJ",
        "outputId": "cbc9953a-ff49-4209-c227-6064b99506f2",
        "colab": {
          "base_uri": "https://localhost:8080/"
        }
      },
      "execution_count": null,
      "outputs": [
        {
          "output_type": "stream",
          "name": "stdout",
          "text": [
            "Enter your name: ching\n",
            "Hello, ching! Welcome to Google Colab.\n"
          ]
        }
      ]
    },
    {
      "cell_type": "markdown",
      "source": [
        "**Truth table of proposition logic**"
      ],
      "metadata": {
        "id": "iXdqsYiLYuif"
      }
    },
    {
      "cell_type": "code",
      "source": [
        "# Define the propositions\n",
        "propositions = [(p, q) for p in [True, False] for q in [True, False]]\n",
        "\n",
        "# Print the header\n",
        "print(\" p    q    p AND q\")\n",
        "print(\"-------------------\")\n",
        "\n",
        "# Evaluate the logical expression for each combination of p and q\n",
        "for (p, q) in propositions:\n",
        "    result = p and q\n",
        "    print(f\"{p} {q} {result}\")\n"
      ],
      "metadata": {
        "id": "pE4Kzbo6Y4w0",
        "outputId": "1f1f2152-db62-44a6-f3a9-f3aa1c16e362",
        "colab": {
          "base_uri": "https://localhost:8080/"
        }
      },
      "execution_count": 3,
      "outputs": [
        {
          "output_type": "stream",
          "name": "stdout",
          "text": [
            " p    q    p AND q\n",
            "-------------------\n",
            "True True True\n",
            "True False False\n",
            "False True False\n",
            "False False False\n"
          ]
        }
      ]
    },
    {
      "cell_type": "code",
      "source": [
        "import pandas as pd\n",
        "\n",
        "# Define the propositions\n",
        "propositions = [(P, Q) for P in [True, False] for Q in [True, False]]\n",
        "\n",
        "# Define the logical expression functions\n",
        "def and_expression(P, Q):\n",
        "    return P and Q\n",
        "\n",
        "def not_expression(P):\n",
        "    return not P\n",
        "\n",
        "def complex_expression(P, Q):\n",
        "    return (P and Q) or not P\n",
        "\n",
        "# Evaluate the logical expressions for each combination of P and Q\n",
        "results = []\n",
        "for (P, Q) in propositions:\n",
        "    and_result = and_expression(P, Q)\n",
        "    not_result = not_expression(P)\n",
        "    complex_result = complex_expression(P, Q)\n",
        "    results.append({\n",
        "        'P': P,\n",
        "        'Q': Q,\n",
        "        'P AND Q': and_result,\n",
        "        'NOT P': not_result,\n",
        "        'P AND Q OR NOT P': complex_result\n",
        "    })\n",
        "\n",
        "# Create a dataframe\n",
        "df = pd.DataFrame(results)\n",
        "\n",
        "# Display the dataframe\n",
        "print(df)\n"
      ],
      "metadata": {
        "id": "8ODJnPpXcnyE",
        "outputId": "92bba52f-5c50-4bda-af6a-551d638c72fe",
        "colab": {
          "base_uri": "https://localhost:8080/"
        }
      },
      "execution_count": 7,
      "outputs": [
        {
          "output_type": "stream",
          "name": "stdout",
          "text": [
            "       P      Q  P AND Q  NOT P  P AND Q OR NOT P\n",
            "0   True   True     True  False              True\n",
            "1   True  False    False  False             False\n",
            "2  False   True    False   True              True\n",
            "3  False  False    False   True              True\n"
          ]
        }
      ]
    },
    {
      "cell_type": "code",
      "source": [
        "import pandas as pd\n",
        "\n",
        "# Function to get user input for P and Q\n",
        "def get_user_input():\n",
        "    P = input(\"Enter value for P (True/False): \")\n",
        "    Q = input(\"Enter value for Q (True/False): \")\n",
        "    P = True if P.lower() == 'true' else False\n",
        "    Q = True if Q.lower() == 'true' else False\n",
        "    return P, Q\n",
        "\n",
        "# Define the logical expression functions\n",
        "def and_expression(P, Q):\n",
        "    return P and Q\n",
        "\n",
        "def not_expression(P):\n",
        "    return not P\n",
        "\n",
        "def complex_expression(P, Q):\n",
        "    return (P and Q) or not P\n",
        "\n",
        "# Get user input\n",
        "P, Q = get_user_input()\n",
        "\n",
        "# Evaluate the logical expressions\n",
        "and_result = and_expression(P, Q)\n",
        "not_result = not_expression(P)\n",
        "complex_result = complex_expression(P, Q)\n",
        "\n",
        "# Store the results in a list\n",
        "results = [{\n",
        "    'P': P,\n",
        "    'Q': Q,\n",
        "    'P AND Q': and_result,\n",
        "    'NOT P': not_result,\n",
        "    'P AND Q OR NOT P': complex_result\n",
        "}]\n",
        "\n",
        "# Create a dataframe\n",
        "df = pd.DataFrame(results)\n",
        "\n",
        "# Display the dataframe\n",
        "print(df)\n"
      ],
      "metadata": {
        "id": "UUIfd9LCfnop",
        "outputId": "b4123d2a-47a7-42e4-bf35-512d49431cf3",
        "colab": {
          "base_uri": "https://localhost:8080/"
        }
      },
      "execution_count": 8,
      "outputs": [
        {
          "output_type": "stream",
          "name": "stdout",
          "text": [
            "Enter value for P (True/False): True\n",
            "Enter value for Q (True/False): False\n",
            "      P      Q  P AND Q  NOT P  P AND Q OR NOT P\n",
            "0  True  False    False  False             False\n"
          ]
        }
      ]
    }
  ],
  "metadata": {
    "kernelspec": {
      "display_name": "Python 3",
      "name": "python3"
    },
    "language_info": {
      "name": "python"
    },
    "colab": {
      "provenance": [],
      "include_colab_link": true
    }
  },
  "nbformat": 4,
  "nbformat_minor": 0
}