{
  "cells": [
    {
      "cell_type": "markdown",
      "metadata": {
        "id": "view-in-github",
        "colab_type": "text"
      },
      "source": [
        "<a href=\"https://colab.research.google.com/github/Ching040917/Practical-Discrete-Mathematics/blob/master/Chapter%2004%20-%20Combinatorics%20Using%20SciPy/Chapter4.ipynb\" target=\"_parent\"><img src=\"https://colab.research.google.com/assets/colab-badge.svg\" alt=\"Open In Colab\"/></a>"
      ]
    },
    {
      "cell_type": "markdown",
      "metadata": {
        "id": "hlx5m7lAkSTC"
      },
      "source": [
        "# Chapter 4 - Combinatorics Using SciPy\n",
        "\n",
        "This notebook contains code accompanying Chapter 4 Combinatorics Using SciPy in *Practical Discrete Mathematics* by Ryan T. White and Archana Tikayat Ray.\n",
        "\n",
        "## Counting Permutations and Combinations of Objects\n",
        "\n",
        "### Growth of Factorials\n",
        "\n",
        "Below, we compute some factorials, which count permutations."
      ]
    },
    {
      "cell_type": "code",
      "execution_count": 2,
      "metadata": {
        "id": "5IEIRC53kSTF",
        "outputId": "95075c49-045c-4564-d380-b451bb6e7602",
        "colab": {
          "base_uri": "https://localhost:8080/"
        }
      },
      "outputs": [
        {
          "output_type": "stream",
          "name": "stdout",
          "text": [
            "2432902008176640000\n",
            "93326215443944152681699238856266700490715968264381621468592963895217599993229915608941463976156518286253697920827223758251185210916864000000000000000000000000\n"
          ]
        }
      ],
      "source": [
        "import math\n",
        "print(math.factorial(20))\n",
        "print(math.factorial(100))"
      ]
    },
    {
      "cell_type": "markdown",
      "metadata": {
        "id": "Z4CtXhbdkSTH"
      },
      "source": [
        "### Example: Counting playlists\n",
        "\n",
        "The number of 10-permutations of the 20-song list can be computed with Python as follows."
      ]
    },
    {
      "cell_type": "code",
      "execution_count": 4,
      "metadata": {
        "id": "D5qSCZ4BkSTH",
        "outputId": "e16c051c-f736-4daf-a4b2-9218ef3d99d0",
        "colab": {
          "base_uri": "https://localhost:8080/"
        }
      },
      "outputs": [
        {
          "output_type": "stream",
          "name": "stdout",
          "text": [
            "670442572800.0\n"
          ]
        }
      ],
      "source": [
        "import math\n",
        "print(math.factorial(20)/math.factorial(20-10))"
      ]
    },
    {
      "cell_type": "markdown",
      "metadata": {
        "id": "RSfESrkMkSTI"
      },
      "source": [
        "### Example: Teambuilding\n",
        "\n",
        "The code below finds the number of possible 4-person teams we could build from four of twenty people."
      ]
    },
    {
      "cell_type": "code",
      "execution_count": null,
      "metadata": {
        "id": "fEBb7nXQkSTI",
        "outputId": "90c09be5-1cfb-494d-fa76-b9f24ead4864"
      },
      "outputs": [
        {
          "name": "stdout",
          "output_type": "stream",
          "text": [
            "4845.0\n",
            "4845.0\n"
          ]
        }
      ],
      "source": [
        "# using the factorial function\n",
        "import math\n",
        "print(math.factorial(20) / math.factorial(4) / math.factorial(20-4))\n",
        "\n",
        "# import the special functions from sciPy\n",
        "import scipy.special\n",
        "print(scipy.special.binom(20,4))"
      ]
    },
    {
      "cell_type": "markdown",
      "metadata": {
        "id": "oHecJFvLkSTI"
      },
      "source": [
        "## Applications to Memory Allocation\n",
        "\n",
        "### Example: Pre-allocating Memory\n",
        "\n",
        "Suppose we wish to create a large list of 1,000,000 numbers. The simplest way is to just run a loop, adding one element at a time to the vector. (Note that the runtime will vary depending on the hardware where you run the code.)"
      ]
    },
    {
      "cell_type": "code",
      "execution_count": 9,
      "metadata": {
        "id": "9AwYGuFOkSTJ",
        "outputId": "d8d12d52-f3b5-47aa-b3b6-4c30cb191447",
        "colab": {
          "base_uri": "https://localhost:8080/"
        }
      },
      "outputs": [
        {
          "output_type": "stream",
          "name": "stdout",
          "text": [
            "0.1448986530303955\n"
          ]
        }
      ],
      "source": [
        "import time\n",
        "\n",
        "number = 1000000\n",
        "\n",
        "# Check the current time\n",
        "startTime = time.time()\n",
        "\n",
        "# Create an empty list\n",
        "list = []\n",
        "\n",
        "# Add items to the list one by one\n",
        "for counter in range(number):\n",
        "    list.append(counter)\n",
        "\n",
        "# Display the run time\n",
        "print(time.time() - startTime)"
      ]
    },
    {
      "cell_type": "markdown",
      "metadata": {
        "id": "iVuBL6_tkSTJ"
      },
      "source": [
        "The code below can pre-allocate an array with 1,000,000 and fill it in with 1, 2, ..., 1,000,000. (Note that the runtime will vary depending on the hardware where you run the code.)"
      ]
    },
    {
      "cell_type": "code",
      "execution_count": 11,
      "metadata": {
        "id": "9pZqBE5DkSTJ",
        "outputId": "3c2ebae8-8e9f-4b83-ea6a-3f18e1ec2294",
        "colab": {
          "base_uri": "https://localhost:8080/"
        }
      },
      "outputs": [
        {
          "output_type": "stream",
          "name": "stdout",
          "text": [
            "0.1376972198486328\n"
          ]
        }
      ],
      "source": [
        "import time\n",
        "number = 1000000\n",
        "\n",
        "# Check the current time\n",
        "startTime = time.time()\n",
        "\n",
        "# Create a list of 1000000 zeros\n",
        "list = [None]*number\n",
        "\n",
        "# Add items to the list one by one\n",
        "for counter in range(number):\n",
        "    list[counter] = counter\n",
        "\n",
        "# Display the run time\n",
        "print(time.time() - startTime)"
      ]
    },
    {
      "cell_type": "markdown",
      "metadata": {
        "id": "xu7F5W0mkSTK"
      },
      "source": [
        "## Efficacy of Brute Force Algorithms\n",
        "\n",
        "### Example: Caesar Cipher\n",
        "\n",
        "A brute force check of how the text would be decoded for each possible Caesar cipher."
      ]
    },
    {
      "cell_type": "code",
      "execution_count": 13,
      "metadata": {
        "id": "JYMcRlOKkSTK",
        "outputId": "081cee2a-0637-4e50-e5bb-4ba8c0c36f63",
        "colab": {
          "base_uri": "https://localhost:8080/"
        }
      },
      "outputs": [
        {
          "output_type": "stream",
          "name": "stdout",
          "text": [
            "0 nzohfu gur rarzl ng avtug\n",
            "1 oapigv hvs sbsam oh bwuvh\n",
            "2 pbqjhw iwt tctbn pi cxvwi\n",
            "3 qcrkix jxu uduco qj dywxj\n",
            "4 rdsljy kyv vevdp rk ezxyk\n",
            "5 setmkz lzw wfweq sl fayzl\n",
            "6 tfunla max xgxfr tm gbzam\n",
            "7 ugvomb nby yhygs un hcabn\n",
            "8 vhwpnc ocz zizht vo idbco\n",
            "9 wixqod pda ajaiu wp jecdp\n",
            "10 xjyrpe qeb bkbjv xq kfdeq\n",
            "11 ykzsqf rfc clckw yr lgefr\n",
            "12 zlatrg sgd dmdlx zs mhfgs\n",
            "13 ambush the enemy at night\n",
            "14 bncvti uif fofnz bu ojhiu\n",
            "15 codwuj vjg gpgoa cv pkijv\n",
            "16 dpexvk wkh hqhpb dw qljkw\n",
            "17 eqfywl xli iriqc ex rmklx\n",
            "18 frgzxm ymj jsjrd fy snlmy\n",
            "19 gshayn znk ktkse gz tomnz\n",
            "20 htibzo aol lultf ha upnoa\n",
            "21 iujcap bpm mvmug ib vqopb\n",
            "22 jvkdbq cqn nwnvh jc wrpqc\n",
            "23 kwlecr dro oxowi kd xsqrd\n",
            "24 lxmfds esp pypxj le ytrse\n",
            "25 mynget ftq qzqyk mf zustf\n"
          ]
        }
      ],
      "source": [
        "# Intercepted message\n",
        "codedMessage = 'nzohfu gur rarzl ng avtug'\n",
        "\n",
        "# We will shift by 0, shift by 1, shift by 2, ... and print the results\n",
        "for counter in range(26):\n",
        "    # Start with no guess\n",
        "    guessedMessage = ''\n",
        "\n",
        "    # Loop through each letter in the coded message\n",
        "    for x in codedMessage:\n",
        "\n",
        "        # If x is not a space\n",
        "        if x != ' ':\n",
        "\n",
        "            # Shift the letter forward by counter\n",
        "            if ord(x)+counter <= 122:\n",
        "                x = chr(ord(x)+counter)\n",
        "\n",
        "            # Subtract 26 if we go beyond z\n",
        "            else:\n",
        "                x = chr(ord(x)+counter-26)\n",
        "\n",
        "        # Build a guess for the message one letter at a time\n",
        "        guessedMessage = guessedMessage + x\n",
        "\n",
        "    # Print the counter (the shift) and the message\n",
        "    print(counter, guessedMessage)\n"
      ]
    },
    {
      "cell_type": "markdown",
      "metadata": {
        "id": "0HOhqxdwkSTK"
      },
      "source": [
        "Clearly, the length of the shift is 13 letters as only this one produces an intelligible message."
      ]
    },
    {
      "cell_type": "markdown",
      "source": [
        "**Example**:"
      ],
      "metadata": {
        "id": "mNV8Izvltr6P"
      }
    },
    {
      "cell_type": "markdown",
      "source": [
        "Given the followimng original and decrypted words, write a python fucntion to determine the possible cipher keys use in caesar cipher. The fucntion should ignore any non-alphabetic characters in the words<br><br>**Original word: \"S3CURE!\" <br>Encrypted word: \"V3FZWH!\"**<br><br>what are the possible keys, and how would you implement this in python?<br>"
      ],
      "metadata": {
        "id": "-ilm5yrVtWxS"
      }
    },
    {
      "cell_type": "code",
      "source": [
        "def find_caesar_cipher_keys(original, encrypted):\n",
        "    \"\"\"\n",
        "    Determine possible keys used in a Caesar cipher.\n",
        "    Non-alphabetic characters are ignored.\n",
        "\n",
        "    Args:\n",
        "    - original (str): The original word.\n",
        "    - encrypted (str): The encrypted word.\n",
        "\n",
        "    Returns:\n",
        "    - set: A set of possible keys.\n",
        "    \"\"\"\n",
        "    if len(original) != len(encrypted):\n",
        "        raise ValueError(\"Original and encrypted words must have the same length.\")\n",
        "\n",
        "    keys = set()\n",
        "    for o_char, e_char in zip(original, encrypted):\n",
        "        if o_char.isalpha() and e_char.isalpha():\n",
        "            # Calculate key based on character positions\n",
        "            o_pos = ord(o_char.lower()) - ord('a')\n",
        "            e_pos = ord(e_char.lower()) - ord('a')\n",
        "            key = (e_pos - o_pos) % 26\n",
        "            keys.add(key)\n",
        "\n",
        "    return keys\n",
        "\n",
        "# Test the function\n",
        "original_word = \"S3CURE!\"\n",
        "encrypted_word = \"V3FZWH!\"\n",
        "\n",
        "possible_keys = find_caesar_cipher_keys(original_word, encrypted_word)\n",
        "print(f\"Possible keys: {possible_keys}\")\n"
      ],
      "metadata": {
        "id": "9MuvKbVLsjjT",
        "outputId": "81bd1461-d046-4134-91dd-11dfc04ef28a",
        "colab": {
          "base_uri": "https://localhost:8080/"
        }
      },
      "execution_count": 15,
      "outputs": [
        {
          "output_type": "stream",
          "name": "stdout",
          "text": [
            "Possible keys: {3, 5}\n"
          ]
        }
      ]
    }
  ],
  "metadata": {
    "kernelspec": {
      "display_name": "Python 3",
      "name": "python3"
    },
    "language_info": {
      "name": "python"
    },
    "colab": {
      "provenance": [],
      "include_colab_link": true
    }
  },
  "nbformat": 4,
  "nbformat_minor": 0
}