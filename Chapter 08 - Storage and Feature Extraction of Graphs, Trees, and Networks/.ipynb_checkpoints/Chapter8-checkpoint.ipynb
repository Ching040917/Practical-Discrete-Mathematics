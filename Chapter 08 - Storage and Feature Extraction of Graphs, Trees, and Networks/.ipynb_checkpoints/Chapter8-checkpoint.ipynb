{
  "cells": [
    {
      "cell_type": "markdown",
      "metadata": {
        "id": "view-in-github",
        "colab_type": "text"
      },
      "source": [
        "<a href=\"https://colab.research.google.com/github/Ching040917/Practical-Discrete-Mathematics/blob/master/Chapter%2008%20-%20Storage%20and%20Feature%20Extraction%20of%20Graphs%2C%20Trees%2C%20and%20Networks/.ipynb_checkpoints/Chapter8-checkpoint.ipynb\" target=\"_parent\"><img src=\"https://colab.research.google.com/assets/colab-badge.svg\" alt=\"Open In Colab\"/></a>"
      ]
    },
    {
      "cell_type": "markdown",
      "metadata": {
        "id": "yxEQqdcYptuS"
      },
      "source": [
        "# Chapter 8 - Storage and Feature Extraction of Graphs, Trees, and Networks\n",
        "\n",
        "This notebook contains code accompanying Chapter 8 Storage and Feature Extraction of Graphs, Trees, and Networks in *Practical Discrete Mathematics* by Ryan T. White and Archana Tikayat Ray\n",
        "\n",
        "## Storage of Graphs and Networks\n",
        "\n",
        "Below are adjacency matrices for storing the graphs in Figure 8.1 and Figure 8.8 as well as an adjacency matrix for the directed graph in Figure 8.6."
      ]
    },
    {
      "cell_type": "code",
      "execution_count": 1,
      "metadata": {
        "id": "jtrSVE-BptuX",
        "outputId": "bd4c676f-30d5-482f-8da8-6db218ae27fe",
        "colab": {
          "base_uri": "https://localhost:8080/"
        }
      },
      "outputs": [
        {
          "output_type": "stream",
          "name": "stdout",
          "text": [
            "A1 = [[0 1 1 0 1 0]\n",
            " [1 0 1 1 0 1]\n",
            " [1 1 0 1 1 0]\n",
            " [0 1 1 0 1 0]\n",
            " [1 0 1 1 0 0]\n",
            " [0 1 0 0 0 0]]\n",
            "\n",
            " A2 = [[0 1 0 0 0 0]\n",
            " [1 0 0 0 0 1]\n",
            " [0 0 0 1 1 0]\n",
            " [0 0 1 0 1 0]\n",
            " [0 0 1 1 0 0]\n",
            " [0 1 0 0 0 0]]\n",
            "\n",
            " A3 = [[0 0 1 0 0 0]\n",
            " [1 0 0 0 0 1]\n",
            " [0 0 0 0 1 0]\n",
            " [0 1 1 0 1 0]\n",
            " [1 0 1 1 0 0]\n",
            " [0 0 0 0 0 1]]\n"
          ]
        }
      ],
      "source": [
        "import numpy\n",
        "\n",
        "# Create an adjacency matrix for the graph in Figure 8.1\n",
        "A1 = numpy.array([[0, 1, 1, 0, 1, 0], [1, 0, 1, 1, 0, 1],\n",
        "                 [1, 1, 0, 1, 1, 0], [0, 1, 1, 0, 1, 0],\n",
        "                 [1, 0, 1, 1, 0, 0], [0, 1, 0, 0, 0, 0]])\n",
        "\n",
        "# Create an adjacency matrix for the graph in Figure 8.8\n",
        "A2 = numpy.array([[0, 1, 0, 0, 0, 0], [1, 0, 0, 0, 0, 1],\n",
        "                 [0, 0, 0, 1, 1, 0], [0, 0, 1, 0, 1, 0],\n",
        "                 [0, 0, 1, 1, 0, 0], [0, 1, 0, 0, 0, 0]])\n",
        "\n",
        "# Create an adjacency matrix for the directed graph in Figure 8.6\n",
        "A3 = numpy.array([[0, 0, 1, 0, 0, 0], [1, 0, 0, 0, 0, 1],\n",
        "                 [0, 0, 0, 0, 1, 0], [0, 1, 1, 0, 1, 0],\n",
        "                 [1, 0, 1, 1, 0, 0], [0, 0, 0, 0, 0, 1]])\n",
        "\n",
        "# print the adjacency matrices\n",
        "print(\"A1 =\", A1)\n",
        "print(\"\\n A2 =\", A2)\n",
        "print(\"\\n A3 =\", A3)"
      ]
    },
    {
      "cell_type": "markdown",
      "metadata": {
        "id": "tANJ3fOLptuY"
      },
      "source": [
        "Below are weight matrices for the networks in Figure 8.5 and Figure 8.7."
      ]
    },
    {
      "cell_type": "code",
      "execution_count": null,
      "metadata": {
        "id": "-oYAltAnptuY",
        "outputId": "fdf97dd7-5f6d-444b-9778-d246b392135a"
      },
      "outputs": [
        {
          "name": "stdout",
          "output_type": "stream",
          "text": [
            "W1 = [[0 4 1 0 2 0]\n",
            " [4 0 2 1 0 1]\n",
            " [1 2 0 1 1 0]\n",
            " [0 1 1 0 2 0]\n",
            " [2 0 1 2 0 0]\n",
            " [0 1 0 0 0 0]]\n",
            "\n",
            " W2 = [[0 0 2 0 0 0]\n",
            " [1 0 0 0 0 2]\n",
            " [0 0 0 0 2 0]\n",
            " [0 2 3 0 4 0]\n",
            " [3 0 1 1 0 0]\n",
            " [0 0 0 0 0 1]]\n"
          ]
        }
      ],
      "source": [
        "import numpy\n",
        "\n",
        "# Create a weight matrix for the network in Figure 8.5\n",
        "W1 = numpy.array([[0, 4, 1, 0, 2, 0], [4, 0, 2, 1, 0, 1],\n",
        "                 [1, 2, 0, 1, 1, 0], [0, 1, 1, 0, 2, 0],\n",
        "                 [2, 0, 1, 2, 0, 0], [0, 1, 0, 0, 0, 0]])\n",
        "\n",
        "# Create a weight matrix for the directed network in Figure 8.7\n",
        "W2 = numpy.array([[0, 0, 2, 0, 0, 0], [1, 0, 0, 0, 0, 2],\n",
        "                 [0, 0, 0, 0, 2, 0], [0, 2, 3, 0, 4, 0],\n",
        "                 [3, 0, 1, 1, 0, 0], [0, 0, 0, 0, 0, 1]])\n",
        "\n",
        "# Print the weight matrices\n",
        "print(\"W1 =\", W1)\n",
        "print(\"\\n W2 =\", W2)"
      ]
    },
    {
      "cell_type": "markdown",
      "metadata": {
        "id": "2IioLhQEptuZ"
      },
      "source": [
        "## Feature Extraction of Graphs"
      ]
    },
    {
      "cell_type": "markdown",
      "metadata": {
        "id": "fkT5eGCoptuZ"
      },
      "source": [
        "Below is how we can find the degrees of the vertices of the graph in Figure 8.1."
      ]
    },
    {
      "cell_type": "code",
      "execution_count": null,
      "metadata": {
        "id": "k0jNsSXdptuZ",
        "outputId": "15691f65-0f11-42e5-b8ac-a481820fe5e4"
      },
      "outputs": [
        {
          "name": "stdout",
          "output_type": "stream",
          "text": [
            "[3 4 4 3 3 1]\n",
            "[3 4 4 3 3 1]\n"
          ]
        }
      ],
      "source": [
        "# Find the degrees of each vertex of the graph in Figure 8.1\n",
        "\n",
        "# Using column sums\n",
        "print(numpy.sum(A1, axis=0))\n",
        "\n",
        "# Using row sums\n",
        "print(numpy.sum(A1, axis=1))"
      ]
    },
    {
      "cell_type": "markdown",
      "metadata": {
        "id": "UwzMDNOIptuZ"
      },
      "source": [
        "Below is how we can find the in-degrees and out-degrees of the vertices of the directed graph in Figure 8.6."
      ]
    },
    {
      "cell_type": "code",
      "execution_count": 2,
      "metadata": {
        "id": "68tKedPOptuZ",
        "outputId": "40fed9d2-537c-4de7-e826-d06a8bfc752a",
        "colab": {
          "base_uri": "https://localhost:8080/"
        }
      },
      "outputs": [
        {
          "output_type": "stream",
          "name": "stdout",
          "text": [
            "[1 2 1 3 3 1]\n",
            "[2 1 3 1 2 2]\n",
            "11\n",
            "11\n"
          ]
        }
      ],
      "source": [
        "# Find out-degrees for each vertex in the directed graph in Figure 8.6\n",
        "outdegrees = numpy.sum(A3, axis=1)\n",
        "print(outdegrees)\n",
        "\n",
        "# Find in-degrees for each vertex in the directed graph in Figure 8.6\n",
        "indegrees = numpy.sum(A3, axis=0)\n",
        "print(indegrees)\n",
        "\n",
        "print(numpy.sum(outdegrees))\n",
        "print(numpy.sum(indegrees))"
      ]
    },
    {
      "cell_type": "markdown",
      "metadata": {
        "id": "CjWmdLNoptua"
      },
      "source": [
        "Below is code to find the second and third powers of the adjacency matrix of the graph from Figure 8.1. The number in row $i$, column $j$ of each power represents the number of 2-edge and 3-edge paths between vertex $v_{i-1}$ and $v_{j-1}$, respectively."
      ]
    },
    {
      "cell_type": "code",
      "execution_count": null,
      "metadata": {
        "id": "a6Bzuegrptua",
        "outputId": "fc75d0e2-fc42-4aac-ea00-5d6e63c62077"
      },
      "outputs": [
        {
          "name": "stdout",
          "output_type": "stream",
          "text": [
            "[[3 1 2 3 1 1]\n",
            " [1 4 2 1 3 0]\n",
            " [2 2 4 2 2 1]\n",
            " [3 1 2 3 1 1]\n",
            " [1 3 2 1 3 0]\n",
            " [1 0 1 1 0 1]]\n",
            "\n",
            " [[4 9 8 4 8 1]\n",
            " [9 4 9 9 4 4]\n",
            " [8 9 8 8 8 2]\n",
            " [4 9 8 4 8 1]\n",
            " [8 4 8 8 4 3]\n",
            " [1 4 2 1 3 0]]\n"
          ]
        }
      ],
      "source": [
        "# Find the second power of adjacency matrix A1\n",
        "print(numpy.linalg.matrix_power(A1,2))\n",
        "\n",
        "# Find the third power of adjacency matrix A1\n",
        "print(\"\\n\", numpy.linalg.matrix_power(A1,3))"
      ]
    },
    {
      "cell_type": "markdown",
      "metadata": {
        "id": "gpd-0cjgptua"
      },
      "source": [
        "The code below finds the number of paths between several pairs of vertices of different lengths for the directed graph in Figure 8.8."
      ]
    },
    {
      "cell_type": "code",
      "execution_count": null,
      "metadata": {
        "id": "Vlq9IVgrptua",
        "outputId": "9d4d19ed-8c45-419e-98a8-6ce0fc44dd05"
      },
      "outputs": [
        {
          "name": "stdout",
          "output_type": "stream",
          "text": [
            "There are 0 paths of length 1 from v1 to v6\n",
            "There are 1 paths of length 2 from v1 to v6\n",
            "There are 0 paths of length 3 from v1 to v6\n",
            "There are 2 paths of length 4 from v1 to v6\n",
            "There are 0 paths of length 5 from v1 to v6\n",
            "There are 4 paths of length 6 from v1 to v6\n",
            "There are 0 paths of length 1 from v2 to v3\n",
            "There are 0 paths of length 2 from v2 to v3\n",
            "There are 0 paths of length 3 from v2 to v3\n",
            "There are 0 paths of length 4 from v2 to v3\n",
            "There are 0 paths of length 5 from v2 to v3\n",
            "There are 0 paths of length 6 from v2 to v3\n"
          ]
        }
      ],
      "source": [
        "# Print the number of paths from v1 to v6 of each length from 1 to 6\n",
        "for counter in range(1,7):\n",
        "    A2counter = numpy.linalg.matrix_power(A2,counter)\n",
        "    print(\"There are\", A2counter[0,5], \"paths of length\", counter, \"from v1 to v6\")\n",
        "\n",
        "# Print the number of paths from v2 to v3 of each length from 1 to 6\n",
        "for counter in range(1,7):\n",
        "    A2counter = numpy.linalg.matrix_power(A2,counter)\n",
        "    print(\"There are\", A2counter[1,2], \"paths of length\", counter, \"from v2 to v3\")"
      ]
    },
    {
      "cell_type": "markdown",
      "source": [
        "Find the path for figure 8.7 and 8.6"
      ],
      "metadata": {
        "id": "UNVYgRicrWNA"
      }
    },
    {
      "cell_type": "markdown",
      "source": [
        "figure 8.6"
      ],
      "metadata": {
        "id": "DKrzwhdkv5W0"
      }
    },
    {
      "cell_type": "code",
      "source": [
        "import numpy as np\n",
        "\n",
        "# Adjacency matrix for the directed graph in Figure 8.6\n",
        "adj_matrix = np.array([\n",
        "    [0, 0, 1, 0, 0, 0],  # v1\n",
        "    [1, 0, 0, 0, 0, 0],  # v2\n",
        "    [0, 1, 0, 1, 1, 0],  # v3\n",
        "    [0, 0, 0, 0, 1, 0],  # v4\n",
        "    [1, 0, 1, 1, 0, 0],  # v5\n",
        "    [0, 0, 0, 0, 0, 1]   # v6\n",
        "])\n",
        "\n",
        "def dfs_paths(adj_matrix, start, goal):\n",
        "    stack = [(start, [start])]\n",
        "    while stack:\n",
        "        (vertex, path) = stack.pop()\n",
        "        print(f\"Visiting vertex {vertex + 1}, current path: {path}\")\n",
        "        for next in range(len(adj_matrix[vertex])):\n",
        "            if adj_matrix[vertex][next] == 1 and next not in path:\n",
        "                if next == goal:\n",
        "                    print(f\"Found path: {path + [next]}\")\n",
        "                    yield path + [next]\n",
        "                else:\n",
        "                    stack.append((next, path + [next]))\n",
        "                    print(f\"Stack updated: {stack}\")\n",
        "\n",
        "# Example: Find all paths from vertex 0 (v1) to vertex 4 (v5)\n",
        "start_vertex = 0  # v1\n",
        "end_vertex = 4    # v5\n",
        "\n",
        "paths = list(dfs_paths(adj_matrix, start_vertex, end_vertex))\n",
        "print(\"\\nAll paths from v1 to v5:\")\n",
        "for path in paths:\n",
        "    print(f\"Path: {path}\")"
      ],
      "metadata": {
        "id": "_FKhAGE8vR51",
        "outputId": "d098d9fa-5c44-4742-82eb-ff39969b469e",
        "colab": {
          "base_uri": "https://localhost:8080/"
        }
      },
      "execution_count": 7,
      "outputs": [
        {
          "output_type": "stream",
          "name": "stdout",
          "text": [
            "Visiting vertex 1, current path: [0]\n",
            "Stack updated: [(2, [0, 2])]\n",
            "Visiting vertex 3, current path: [0, 2]\n",
            "Stack updated: [(1, [0, 2, 1])]\n",
            "Stack updated: [(1, [0, 2, 1]), (3, [0, 2, 3])]\n",
            "Found path: [0, 2, 4]\n",
            "Visiting vertex 4, current path: [0, 2, 3]\n",
            "Found path: [0, 2, 3, 4]\n",
            "Visiting vertex 2, current path: [0, 2, 1]\n",
            "\n",
            "All paths from v1 to v5:\n",
            "Path: [0, 2, 4]\n",
            "Path: [0, 2, 3, 4]\n"
          ]
        }
      ]
    },
    {
      "cell_type": "markdown",
      "source": [
        "figure 8.7"
      ],
      "metadata": {
        "id": "uZztnRXjv74e"
      }
    },
    {
      "cell_type": "code",
      "source": [
        "import numpy as np\n",
        "\n",
        "# Adjacency matrix with weights for the directed graph in Figure 8.7\n",
        "adj_matrix = np.array([\n",
        "    [0, 0, 2, 0, 0, 0],  # v1\n",
        "    [1, 0, 0, 0, 0, 0],  # v2\n",
        "    [0, 2, 0, 3, 2, 0],  # v3\n",
        "    [0, 0, 0, 0, 4, 0],  # v4\n",
        "    [3, 0, 1, 1, 0, 0],  # v5\n",
        "    [0, 0, 0, 0, 0, 1]   # v6\n",
        "])\n",
        "\n",
        "def dfs_paths_with_weights(adj_matrix, start, goal):\n",
        "    stack = [(start, [start], 0)]\n",
        "    while stack:\n",
        "        (vertex, path, cost) = stack.pop()\n",
        "        print(f\"Visiting vertex {vertex + 1}, current path: {path}, current cost: {cost}\")\n",
        "        for next in range(len(adj_matrix[vertex])):\n",
        "            if adj_matrix[vertex][next] > 0 and next not in path:\n",
        "                new_cost = cost + adj_matrix[vertex][next]\n",
        "                if next == goal:\n",
        "                    print(f\"Found path: {path + [next]} with cost {new_cost}\")\n",
        "                    yield path + [next], new_cost\n",
        "                else:\n",
        "                    stack.append((next, path + [next], new_cost))\n",
        "                    print(f\"Stack updated: {stack}\")\n",
        "\n",
        "# Example: Find all paths from vertex 0 (v1) to vertex 4 (v5)\n",
        "start_vertex = 0  # v1\n",
        "end_vertex = 4    # v5\n",
        "\n",
        "paths = list(dfs_paths_with_weights(adj_matrix, start_vertex, end_vertex))\n",
        "print(\"\\nAll paths from v1 to v5 with their costs:\")\n",
        "for path, cost in paths:\n",
        "    print(f\"Path: {path}, Cost: {cost}\")"
      ],
      "metadata": {
        "id": "HU_wiUy_v98O",
        "outputId": "2dbc6209-98fd-4963-fc29-723280703a58",
        "colab": {
          "base_uri": "https://localhost:8080/"
        }
      },
      "execution_count": 6,
      "outputs": [
        {
          "output_type": "stream",
          "name": "stdout",
          "text": [
            "Visiting vertex 1, current path: [0], current cost: 0\n",
            "Stack updated: [(2, [0, 2], 2)]\n",
            "Visiting vertex 3, current path: [0, 2], current cost: 2\n",
            "Stack updated: [(1, [0, 2, 1], 4)]\n",
            "Stack updated: [(1, [0, 2, 1], 4), (3, [0, 2, 3], 5)]\n",
            "Found path: [0, 2, 4] with cost 4\n",
            "Visiting vertex 4, current path: [0, 2, 3], current cost: 5\n",
            "Found path: [0, 2, 3, 4] with cost 9\n",
            "Visiting vertex 2, current path: [0, 2, 1], current cost: 4\n",
            "\n",
            "All paths from v1 to v5 with their costs:\n",
            "Path: [0, 2, 4], Cost: 4\n",
            "Path: [0, 2, 3, 4], Cost: 9\n"
          ]
        }
      ]
    }
  ],
  "metadata": {
    "kernelspec": {
      "display_name": "Python [conda env:dl]",
      "language": "python",
      "name": "conda-env-dl-py"
    },
    "language_info": {
      "codemirror_mode": {
        "name": "ipython",
        "version": 3
      },
      "file_extension": ".py",
      "mimetype": "text/x-python",
      "name": "python",
      "nbconvert_exporter": "python",
      "pygments_lexer": "ipython3",
      "version": "3.7.7"
    },
    "colab": {
      "provenance": [],
      "include_colab_link": true
    }
  },
  "nbformat": 4,
  "nbformat_minor": 0
}