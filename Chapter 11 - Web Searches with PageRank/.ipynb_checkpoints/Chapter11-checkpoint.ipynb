{
  "cells": [
    {
      "cell_type": "markdown",
      "metadata": {
        "id": "view-in-github",
        "colab_type": "text"
      },
      "source": [
        "<a href=\"https://colab.research.google.com/github/Ching040917/Practical-Discrete-Mathematics/blob/master/Chapter%2011%20-%20Web%20Searches%20with%20PageRank/.ipynb_checkpoints/Chapter11-checkpoint.ipynb\" target=\"_parent\"><img src=\"https://colab.research.google.com/assets/colab-badge.svg\" alt=\"Open In Colab\"/></a>"
      ]
    },
    {
      "cell_type": "markdown",
      "metadata": {
        "id": "4czaXZys95aj"
      },
      "source": [
        "# Chapter 11 - Web Searches with PageRank\n",
        "\n",
        "This notebook contains code accompanying Chapter 11 Web Searches with PageRank in *Practical Discrete Mathematics* by Ryan T. White and Archana Tikayat Ray.\n",
        "\n",
        "## Google PageRank II\n",
        "\n",
        "### Example: Computing one PageRank update"
      ]
    },
    {
      "cell_type": "code",
      "execution_count": 1,
      "metadata": {
        "id": "alGCQX4m95ak",
        "outputId": "41119c5b-d607-4bdd-eca1-abec93c5c51c",
        "colab": {
          "base_uri": "https://localhost:8080/"
        }
      },
      "outputs": [
        {
          "output_type": "stream",
          "name": "stdout",
          "text": [
            "[[0.3411]\n",
            " [0.0725]\n",
            " [0.0725]\n",
            " [0.3836]\n",
            " [0.1286]]\n"
          ]
        }
      ],
      "source": [
        "# import the NumPy library\n",
        "import numpy\n",
        "\n",
        "# transition probability matrix\n",
        "A = numpy.array([[0, 0.25, 0.25, 0.25, 0.25],\n",
        "                 [0.5, 0, 0, 0.5, 0],\n",
        "                 [0.33, 0, 0, 0.33, 0.33],\n",
        "                 [1, 0, 0, 0, 0],\n",
        "                 [0, 0, 0, 1, 0]])\n",
        "\n",
        "# initialize the PageRank vector\n",
        "v = numpy.array([[0.2], [0.2], [0.2], [0.2], [0.2]])\n",
        "\n",
        "# the damping factor\n",
        "d = 0.85\n",
        "\n",
        "# the size of the \"Internet\"\n",
        "N = 5\n",
        "\n",
        "# compute the update matrix\n",
        "U = d * A.T + (1 - d) / N\n",
        "\n",
        "# compute the new PageRank vector\n",
        "v = numpy.dot(U, v)\n",
        "\n",
        "# print the new PageRank vector\n",
        "print(v)"
      ]
    },
    {
      "cell_type": "markdown",
      "metadata": {
        "id": "A0rizUI895al"
      },
      "source": [
        "Below, we loop this calculation and do 15 PageRank updates."
      ]
    },
    {
      "cell_type": "code",
      "execution_count": 2,
      "metadata": {
        "id": "lJumsnTG95am",
        "outputId": "2926375f-743d-48cb-9af5-6b72e1f3ed06",
        "colab": {
          "base_uri": "https://localhost:8080/"
        }
      },
      "outputs": [
        {
          "output_type": "stream",
          "name": "stdout",
          "text": [
            "PageRank vector 0 is [[0.2 0.2 0.2 0.2 0.2]]\n",
            "PageRank vector 1 is [[0.341 0.073 0.073 0.384 0.129]]\n",
            "PageRank vector 2 is [[0.408 0.102 0.102 0.264 0.123]]\n",
            "PageRank vector 3 is [[0.326 0.117 0.117 0.293 0.145]]\n",
            "PageRank vector 4 is [[0.362 0.099 0.099 0.305 0.132]]\n",
            "PageRank vector 5 is [[0.359 0.107 0.107 0.289 0.135]]\n",
            "PageRank vector 6 is [[0.351 0.106 0.106 0.296 0.136]]\n",
            "PageRank vector 7 is [[0.356 0.104 0.104 0.295 0.134]]\n",
            "PageRank vector 8 is [[0.354 0.105 0.105 0.293 0.135]]\n",
            "PageRank vector 9 is [[0.353 0.105 0.105 0.294 0.134]]\n",
            "PageRank vector 10 is [[0.354 0.105 0.105 0.293 0.134]]\n",
            "PageRank vector 11 is [[0.353 0.105 0.105 0.293 0.134]]\n",
            "PageRank vector 12 is [[0.353 0.105 0.105 0.293 0.134]]\n",
            "PageRank vector 13 is [[0.353 0.105 0.105 0.293 0.134]]\n",
            "PageRank vector 14 is [[0.353 0.105 0.105 0.293 0.134]]\n",
            "PageRank vector 15 is [[0.353 0.105 0.105 0.293 0.134]]\n"
          ]
        }
      ],
      "source": [
        "# initialize the PageRank vector\n",
        "v = numpy.array([[0.2], [0.2], [0.2], [0.2], [0.2]])\n",
        "\n",
        "# print the initial vector\n",
        "print('PageRank vector', 0, 'is', v.T)\n",
        "\n",
        "# compute the PageRank vector for 15 iterations\n",
        "for i in range(15):\n",
        "    # compute the next PageRank vector\n",
        "    v = numpy.dot(U, v)\n",
        "\n",
        "    # round the PageRank vector to 3 places\n",
        "    v = numpy.round(v, 3)\n",
        "\n",
        "    # print the PageRank vector\n",
        "    print('PageRank vector', i + 1, 'is', v.T)"
      ]
    },
    {
      "cell_type": "markdown",
      "metadata": {
        "id": "QeJ3ACzJ95am"
      },
      "source": [
        "Notice that the vectors converge to a specific location. This always happens if the linking structure of the \"Internet\" does not change. Typically, these updates are computed until they converge periodically as new information is gained from the real Internet, which is changing all the time."
      ]
    },
    {
      "cell_type": "markdown",
      "metadata": {
        "id": "s-C4F-gJ95am"
      },
      "source": [
        "## Implementing a PageRank in Python"
      ]
    },
    {
      "cell_type": "code",
      "execution_count": 3,
      "metadata": {
        "id": "rdMgLsHR95am"
      },
      "outputs": [],
      "source": [
        "# The PageRank algorithm for ranking search results\n",
        "#\n",
        "# INPUTS\n",
        "# A - the transition probability matrix\n",
        "# d - the damping factor, default = 0.85\n",
        "# eps - the error threshold, default = 0.0005\n",
        "# maxIterations - the maximum iterations it can run before stopping\n",
        "# verbose - if true, the algorithm prints the progress of PageRank, default False\n",
        "#\n",
        "# OUTPUTS\n",
        "# vNew - the steady state PageRank vector\n",
        "\n",
        "def PageRank(A, d = 0.85, eps = 0.0005, maxIterations = 1000,\n",
        "             verbose = False):\n",
        "    # find the size of the \"Internet\"\n",
        "    N = A.shape[0]\n",
        "\n",
        "    # initialize the old and new PageRank vectors\n",
        "    vOld = numpy.ones([N])\n",
        "    vNew = numpy.ones([N])/N\n",
        "\n",
        "    # initialize a counter\n",
        "    i = 0\n",
        "\n",
        "    # compute the update matrix\n",
        "    U = d * A.T + (1 - d) / N\n",
        "\n",
        "    while numpy.linalg.norm(vOld - vNew) >= eps:\n",
        "        # if the verbose flag is true, print the progress at each iteration\n",
        "        if verbose:\n",
        "            print('At iteration', i, 'the error is',\n",
        "                  numpy.round(numpy.linalg.norm(vOld - vNew), 3),\n",
        "                  'with PageRank', numpy.round(vNew, 3))\n",
        "\n",
        "        # save the current PageRank as the old PageRank\n",
        "        vOld = vNew\n",
        "\n",
        "        # update the PageRank vector\n",
        "        vNew = numpy.dot(U, vOld)\n",
        "\n",
        "        # increment the counter\n",
        "        i += 1\n",
        "\n",
        "        # if it runs too long before converging, stop and notify the user\n",
        "        if i == maxIterations:\n",
        "            print('The PageRank algorithm ran for',\n",
        "                  maxIterations, 'with error',\n",
        "                  numpy.round(numpy.linalg.norm(vOld - vNew), 3))\n",
        "\n",
        "            # return the PageRank vectora and the\n",
        "            return vNew, i\n",
        "\n",
        "    # return the steady state PageRank vector and iteration number\n",
        "    return vNew, i"
      ]
    },
    {
      "cell_type": "markdown",
      "metadata": {
        "id": "d-X5r20-95am"
      },
      "source": [
        "Below, we run the PageRank algorithm with default settings."
      ]
    },
    {
      "cell_type": "code",
      "execution_count": 4,
      "metadata": {
        "id": "sYSmXOdR95am",
        "outputId": "1536030b-42ee-44ba-f8e4-a61383d879c3",
        "colab": {
          "base_uri": "https://localhost:8080/"
        }
      },
      "outputs": [
        {
          "output_type": "stream",
          "name": "stdout",
          "text": [
            "At iteration 0 the error is 1.789 with PageRank [0.2 0.2 0.2 0.2 0.2]\n",
            "At iteration 1 the error is 0.303 with PageRank [0.342 0.073 0.073 0.384 0.129]\n",
            "At iteration 2 the error is 0.144 with PageRank [0.408 0.103 0.103 0.264 0.123]\n",
            "At iteration 3 the error is 0.092 with PageRank [0.327 0.117 0.117 0.294 0.146]\n",
            "At iteration 4 the error is 0.047 with PageRank [0.363 0.099 0.099 0.306 0.133]\n",
            "At iteration 5 the error is 0.019 with PageRank [0.361 0.107 0.107 0.29  0.135]\n",
            "At iteration 6 the error is 0.011 with PageRank [0.352 0.107 0.107 0.297 0.137]\n",
            "At iteration 7 the error is 0.007 with PageRank [0.358 0.105 0.105 0.297 0.135]\n",
            "At iteration 8 the error is 0.003 with PageRank [0.357 0.106 0.106 0.295 0.136]\n",
            "At iteration 9 the error is 0.001 with PageRank [0.356 0.106 0.106 0.296 0.136]\n",
            "At iteration 10 the error is 0.001 with PageRank [0.357 0.106 0.106 0.296 0.136]\n"
          ]
        },
        {
          "output_type": "execute_result",
          "data": {
            "text/plain": [
              "(array([0.3565286 , 0.10584025, 0.10584025, 0.29600666, 0.13578424]), 11)"
            ]
          },
          "metadata": {},
          "execution_count": 4
        }
      ],
      "source": [
        "# transition probability matrix\n",
        "A = numpy.array([[0, 1/4, 1/4, 1/4, 1/4],\n",
        "                 [1/2, 0, 0, 1/2, 0],\n",
        "                 [1/3, 0, 0, 1/3, 1/3],\n",
        "                 [1, 0, 0, 0, 0],\n",
        "                 [0, 0, 0, 1, 0]])\n",
        "\n",
        "# Run the PageRank algorithm with default settings\n",
        "PageRank(A, verbose = True)"
      ]
    },
    {
      "cell_type": "markdown",
      "metadata": {
        "id": "jEn6cZzI95an"
      },
      "source": [
        "After webpage W3 becomes popular, let's run PageRank again and see what changes."
      ]
    },
    {
      "cell_type": "code",
      "execution_count": 5,
      "metadata": {
        "id": "TRyzAlL895an",
        "outputId": "98296f8b-7693-4f00-b97a-b7bf53726ada",
        "colab": {
          "base_uri": "https://localhost:8080/"
        }
      },
      "outputs": [
        {
          "output_type": "stream",
          "name": "stdout",
          "text": [
            "At iteration 0 the error is 1.789 with PageRank [0.2 0.2 0.2 0.2 0.2]\n",
            "At iteration 1 the error is 0.192 with PageRank [0.228 0.073 0.299 0.271 0.129]\n",
            "At iteration 2 the error is 0.06 with PageRank [0.25  0.079 0.269 0.239 0.163]\n",
            "At iteration 3 the error is 0.026 with PageRank [0.23  0.083 0.276 0.251 0.159]\n",
            "At iteration 4 the error is 0.01 with PageRank [0.239 0.079 0.277 0.248 0.157]\n",
            "At iteration 5 the error is 0.004 with PageRank [0.236 0.081 0.275 0.248 0.159]\n",
            "At iteration 6 the error is 0.001 with PageRank [0.236 0.08  0.276 0.249 0.158]\n",
            "At iteration 7 the error is 0.001 with PageRank [0.237 0.08  0.276 0.249 0.159]\n"
          ]
        },
        {
          "output_type": "execute_result",
          "data": {
            "text/plain": [
              "(array([0.2365497 , 0.08030807, 0.27603383, 0.24860661, 0.15850179]), 8)"
            ]
          },
          "metadata": {},
          "execution_count": 5
        }
      ],
      "source": [
        "# transition probability matrix\n",
        "B = numpy.array([[0, 1/4, 1/4, 1/4, 1/4],\n",
        "                 [1/3, 0, 1/3, 1/3, 0],\n",
        "                 [1/3, 0, 0, 1/3, 1/3],\n",
        "                 [1/2, 0, 1/2, 0, 0],\n",
        "                 [0, 0, 1/2, 1/2, 0]])\n",
        "\n",
        "# Run the PageRank algorithm with default settings\n",
        "PageRank(B, verbose = True)"
      ]
    },
    {
      "cell_type": "markdown",
      "metadata": {
        "id": "FvlcNikZ95an"
      },
      "source": [
        "Here, the rank of the website W3 goes from 0.11 to 0.28, a big increase due to its increased popularity.\n",
        "\n",
        "## Applying the Algorithm to Real Data\n",
        "\n",
        "We have a file `California.txt`, which has a real Internet dataset of 9664 webpages containing the word \"California\" with an adjacency list representing links between the webpages. Let's read that into a `pandas` dataframe."
      ]
    },
    {
      "cell_type": "code",
      "execution_count": 6,
      "metadata": {
        "id": "szZ77Joh95an",
        "outputId": "d27d5ee0-bf1b-4c4e-a9d2-85be8d0ab040",
        "colab": {
          "base_uri": "https://localhost:8080/",
          "height": 424
        }
      },
      "outputs": [
        {
          "output_type": "execute_result",
          "data": {
            "text/plain": [
              "      Type  Source                                        Destination\n",
              "0        n       0                           http://www.berkeley.edu/\n",
              "1        n       1                            http://www.caltech.edu/\n",
              "2        n       2                      http://www.realestatenet.com/\n",
              "3        n       3                               http://www.ucsb.edu/\n",
              "4        n       4  http://www.washingtonpost.com/wp-srv/national/...\n",
              "...    ...     ...                                                ...\n",
              "25809    e    9663                                               1806\n",
              "25810    e    9663                                                266\n",
              "25811    e    9663                                               7905\n",
              "25812    e    9663                                                 70\n",
              "25813    e    9663                                               7907\n",
              "\n",
              "[25814 rows x 3 columns]"
            ],
            "text/html": [
              "\n",
              "  <div id=\"df-6daccf3d-b3f8-4e48-a9dd-a20b42bb4851\" class=\"colab-df-container\">\n",
              "    <div>\n",
              "<style scoped>\n",
              "    .dataframe tbody tr th:only-of-type {\n",
              "        vertical-align: middle;\n",
              "    }\n",
              "\n",
              "    .dataframe tbody tr th {\n",
              "        vertical-align: top;\n",
              "    }\n",
              "\n",
              "    .dataframe thead th {\n",
              "        text-align: right;\n",
              "    }\n",
              "</style>\n",
              "<table border=\"1\" class=\"dataframe\">\n",
              "  <thead>\n",
              "    <tr style=\"text-align: right;\">\n",
              "      <th></th>\n",
              "      <th>Type</th>\n",
              "      <th>Source</th>\n",
              "      <th>Destination</th>\n",
              "    </tr>\n",
              "  </thead>\n",
              "  <tbody>\n",
              "    <tr>\n",
              "      <th>0</th>\n",
              "      <td>n</td>\n",
              "      <td>0</td>\n",
              "      <td>http://www.berkeley.edu/</td>\n",
              "    </tr>\n",
              "    <tr>\n",
              "      <th>1</th>\n",
              "      <td>n</td>\n",
              "      <td>1</td>\n",
              "      <td>http://www.caltech.edu/</td>\n",
              "    </tr>\n",
              "    <tr>\n",
              "      <th>2</th>\n",
              "      <td>n</td>\n",
              "      <td>2</td>\n",
              "      <td>http://www.realestatenet.com/</td>\n",
              "    </tr>\n",
              "    <tr>\n",
              "      <th>3</th>\n",
              "      <td>n</td>\n",
              "      <td>3</td>\n",
              "      <td>http://www.ucsb.edu/</td>\n",
              "    </tr>\n",
              "    <tr>\n",
              "      <th>4</th>\n",
              "      <td>n</td>\n",
              "      <td>4</td>\n",
              "      <td>http://www.washingtonpost.com/wp-srv/national/...</td>\n",
              "    </tr>\n",
              "    <tr>\n",
              "      <th>...</th>\n",
              "      <td>...</td>\n",
              "      <td>...</td>\n",
              "      <td>...</td>\n",
              "    </tr>\n",
              "    <tr>\n",
              "      <th>25809</th>\n",
              "      <td>e</td>\n",
              "      <td>9663</td>\n",
              "      <td>1806</td>\n",
              "    </tr>\n",
              "    <tr>\n",
              "      <th>25810</th>\n",
              "      <td>e</td>\n",
              "      <td>9663</td>\n",
              "      <td>266</td>\n",
              "    </tr>\n",
              "    <tr>\n",
              "      <th>25811</th>\n",
              "      <td>e</td>\n",
              "      <td>9663</td>\n",
              "      <td>7905</td>\n",
              "    </tr>\n",
              "    <tr>\n",
              "      <th>25812</th>\n",
              "      <td>e</td>\n",
              "      <td>9663</td>\n",
              "      <td>70</td>\n",
              "    </tr>\n",
              "    <tr>\n",
              "      <th>25813</th>\n",
              "      <td>e</td>\n",
              "      <td>9663</td>\n",
              "      <td>7907</td>\n",
              "    </tr>\n",
              "  </tbody>\n",
              "</table>\n",
              "<p>25814 rows × 3 columns</p>\n",
              "</div>\n",
              "    <div class=\"colab-df-buttons\">\n",
              "\n",
              "  <div class=\"colab-df-container\">\n",
              "    <button class=\"colab-df-convert\" onclick=\"convertToInteractive('df-6daccf3d-b3f8-4e48-a9dd-a20b42bb4851')\"\n",
              "            title=\"Convert this dataframe to an interactive table.\"\n",
              "            style=\"display:none;\">\n",
              "\n",
              "  <svg xmlns=\"http://www.w3.org/2000/svg\" height=\"24px\" viewBox=\"0 -960 960 960\">\n",
              "    <path d=\"M120-120v-720h720v720H120Zm60-500h600v-160H180v160Zm220 220h160v-160H400v160Zm0 220h160v-160H400v160ZM180-400h160v-160H180v160Zm440 0h160v-160H620v160ZM180-180h160v-160H180v160Zm440 0h160v-160H620v160Z\"/>\n",
              "  </svg>\n",
              "    </button>\n",
              "\n",
              "  <style>\n",
              "    .colab-df-container {\n",
              "      display:flex;\n",
              "      gap: 12px;\n",
              "    }\n",
              "\n",
              "    .colab-df-convert {\n",
              "      background-color: #E8F0FE;\n",
              "      border: none;\n",
              "      border-radius: 50%;\n",
              "      cursor: pointer;\n",
              "      display: none;\n",
              "      fill: #1967D2;\n",
              "      height: 32px;\n",
              "      padding: 0 0 0 0;\n",
              "      width: 32px;\n",
              "    }\n",
              "\n",
              "    .colab-df-convert:hover {\n",
              "      background-color: #E2EBFA;\n",
              "      box-shadow: 0px 1px 2px rgba(60, 64, 67, 0.3), 0px 1px 3px 1px rgba(60, 64, 67, 0.15);\n",
              "      fill: #174EA6;\n",
              "    }\n",
              "\n",
              "    .colab-df-buttons div {\n",
              "      margin-bottom: 4px;\n",
              "    }\n",
              "\n",
              "    [theme=dark] .colab-df-convert {\n",
              "      background-color: #3B4455;\n",
              "      fill: #D2E3FC;\n",
              "    }\n",
              "\n",
              "    [theme=dark] .colab-df-convert:hover {\n",
              "      background-color: #434B5C;\n",
              "      box-shadow: 0px 1px 3px 1px rgba(0, 0, 0, 0.15);\n",
              "      filter: drop-shadow(0px 1px 2px rgba(0, 0, 0, 0.3));\n",
              "      fill: #FFFFFF;\n",
              "    }\n",
              "  </style>\n",
              "\n",
              "    <script>\n",
              "      const buttonEl =\n",
              "        document.querySelector('#df-6daccf3d-b3f8-4e48-a9dd-a20b42bb4851 button.colab-df-convert');\n",
              "      buttonEl.style.display =\n",
              "        google.colab.kernel.accessAllowed ? 'block' : 'none';\n",
              "\n",
              "      async function convertToInteractive(key) {\n",
              "        const element = document.querySelector('#df-6daccf3d-b3f8-4e48-a9dd-a20b42bb4851');\n",
              "        const dataTable =\n",
              "          await google.colab.kernel.invokeFunction('convertToInteractive',\n",
              "                                                    [key], {});\n",
              "        if (!dataTable) return;\n",
              "\n",
              "        const docLinkHtml = 'Like what you see? Visit the ' +\n",
              "          '<a target=\"_blank\" href=https://colab.research.google.com/notebooks/data_table.ipynb>data table notebook</a>'\n",
              "          + ' to learn more about interactive tables.';\n",
              "        element.innerHTML = '';\n",
              "        dataTable['output_type'] = 'display_data';\n",
              "        await google.colab.output.renderOutput(dataTable, element);\n",
              "        const docLink = document.createElement('div');\n",
              "        docLink.innerHTML = docLinkHtml;\n",
              "        element.appendChild(docLink);\n",
              "      }\n",
              "    </script>\n",
              "  </div>\n",
              "\n",
              "\n",
              "<div id=\"df-7aeda3c3-7c50-4de2-8a79-2e57717c41e3\">\n",
              "  <button class=\"colab-df-quickchart\" onclick=\"quickchart('df-7aeda3c3-7c50-4de2-8a79-2e57717c41e3')\"\n",
              "            title=\"Suggest charts\"\n",
              "            style=\"display:none;\">\n",
              "\n",
              "<svg xmlns=\"http://www.w3.org/2000/svg\" height=\"24px\"viewBox=\"0 0 24 24\"\n",
              "     width=\"24px\">\n",
              "    <g>\n",
              "        <path d=\"M19 3H5c-1.1 0-2 .9-2 2v14c0 1.1.9 2 2 2h14c1.1 0 2-.9 2-2V5c0-1.1-.9-2-2-2zM9 17H7v-7h2v7zm4 0h-2V7h2v10zm4 0h-2v-4h2v4z\"/>\n",
              "    </g>\n",
              "</svg>\n",
              "  </button>\n",
              "\n",
              "<style>\n",
              "  .colab-df-quickchart {\n",
              "      --bg-color: #E8F0FE;\n",
              "      --fill-color: #1967D2;\n",
              "      --hover-bg-color: #E2EBFA;\n",
              "      --hover-fill-color: #174EA6;\n",
              "      --disabled-fill-color: #AAA;\n",
              "      --disabled-bg-color: #DDD;\n",
              "  }\n",
              "\n",
              "  [theme=dark] .colab-df-quickchart {\n",
              "      --bg-color: #3B4455;\n",
              "      --fill-color: #D2E3FC;\n",
              "      --hover-bg-color: #434B5C;\n",
              "      --hover-fill-color: #FFFFFF;\n",
              "      --disabled-bg-color: #3B4455;\n",
              "      --disabled-fill-color: #666;\n",
              "  }\n",
              "\n",
              "  .colab-df-quickchart {\n",
              "    background-color: var(--bg-color);\n",
              "    border: none;\n",
              "    border-radius: 50%;\n",
              "    cursor: pointer;\n",
              "    display: none;\n",
              "    fill: var(--fill-color);\n",
              "    height: 32px;\n",
              "    padding: 0;\n",
              "    width: 32px;\n",
              "  }\n",
              "\n",
              "  .colab-df-quickchart:hover {\n",
              "    background-color: var(--hover-bg-color);\n",
              "    box-shadow: 0 1px 2px rgba(60, 64, 67, 0.3), 0 1px 3px 1px rgba(60, 64, 67, 0.15);\n",
              "    fill: var(--button-hover-fill-color);\n",
              "  }\n",
              "\n",
              "  .colab-df-quickchart-complete:disabled,\n",
              "  .colab-df-quickchart-complete:disabled:hover {\n",
              "    background-color: var(--disabled-bg-color);\n",
              "    fill: var(--disabled-fill-color);\n",
              "    box-shadow: none;\n",
              "  }\n",
              "\n",
              "  .colab-df-spinner {\n",
              "    border: 2px solid var(--fill-color);\n",
              "    border-color: transparent;\n",
              "    border-bottom-color: var(--fill-color);\n",
              "    animation:\n",
              "      spin 1s steps(1) infinite;\n",
              "  }\n",
              "\n",
              "  @keyframes spin {\n",
              "    0% {\n",
              "      border-color: transparent;\n",
              "      border-bottom-color: var(--fill-color);\n",
              "      border-left-color: var(--fill-color);\n",
              "    }\n",
              "    20% {\n",
              "      border-color: transparent;\n",
              "      border-left-color: var(--fill-color);\n",
              "      border-top-color: var(--fill-color);\n",
              "    }\n",
              "    30% {\n",
              "      border-color: transparent;\n",
              "      border-left-color: var(--fill-color);\n",
              "      border-top-color: var(--fill-color);\n",
              "      border-right-color: var(--fill-color);\n",
              "    }\n",
              "    40% {\n",
              "      border-color: transparent;\n",
              "      border-right-color: var(--fill-color);\n",
              "      border-top-color: var(--fill-color);\n",
              "    }\n",
              "    60% {\n",
              "      border-color: transparent;\n",
              "      border-right-color: var(--fill-color);\n",
              "    }\n",
              "    80% {\n",
              "      border-color: transparent;\n",
              "      border-right-color: var(--fill-color);\n",
              "      border-bottom-color: var(--fill-color);\n",
              "    }\n",
              "    90% {\n",
              "      border-color: transparent;\n",
              "      border-bottom-color: var(--fill-color);\n",
              "    }\n",
              "  }\n",
              "</style>\n",
              "\n",
              "  <script>\n",
              "    async function quickchart(key) {\n",
              "      const quickchartButtonEl =\n",
              "        document.querySelector('#' + key + ' button');\n",
              "      quickchartButtonEl.disabled = true;  // To prevent multiple clicks.\n",
              "      quickchartButtonEl.classList.add('colab-df-spinner');\n",
              "      try {\n",
              "        const charts = await google.colab.kernel.invokeFunction(\n",
              "            'suggestCharts', [key], {});\n",
              "      } catch (error) {\n",
              "        console.error('Error during call to suggestCharts:', error);\n",
              "      }\n",
              "      quickchartButtonEl.classList.remove('colab-df-spinner');\n",
              "      quickchartButtonEl.classList.add('colab-df-quickchart-complete');\n",
              "    }\n",
              "    (() => {\n",
              "      let quickchartButtonEl =\n",
              "        document.querySelector('#df-7aeda3c3-7c50-4de2-8a79-2e57717c41e3 button');\n",
              "      quickchartButtonEl.style.display =\n",
              "        google.colab.kernel.accessAllowed ? 'block' : 'none';\n",
              "    })();\n",
              "  </script>\n",
              "</div>\n",
              "\n",
              "  <div id=\"id_227dd02d-0f93-4094-9933-004483c3eb9f\">\n",
              "    <style>\n",
              "      .colab-df-generate {\n",
              "        background-color: #E8F0FE;\n",
              "        border: none;\n",
              "        border-radius: 50%;\n",
              "        cursor: pointer;\n",
              "        display: none;\n",
              "        fill: #1967D2;\n",
              "        height: 32px;\n",
              "        padding: 0 0 0 0;\n",
              "        width: 32px;\n",
              "      }\n",
              "\n",
              "      .colab-df-generate:hover {\n",
              "        background-color: #E2EBFA;\n",
              "        box-shadow: 0px 1px 2px rgba(60, 64, 67, 0.3), 0px 1px 3px 1px rgba(60, 64, 67, 0.15);\n",
              "        fill: #174EA6;\n",
              "      }\n",
              "\n",
              "      [theme=dark] .colab-df-generate {\n",
              "        background-color: #3B4455;\n",
              "        fill: #D2E3FC;\n",
              "      }\n",
              "\n",
              "      [theme=dark] .colab-df-generate:hover {\n",
              "        background-color: #434B5C;\n",
              "        box-shadow: 0px 1px 3px 1px rgba(0, 0, 0, 0.15);\n",
              "        filter: drop-shadow(0px 1px 2px rgba(0, 0, 0, 0.3));\n",
              "        fill: #FFFFFF;\n",
              "      }\n",
              "    </style>\n",
              "    <button class=\"colab-df-generate\" onclick=\"generateWithVariable('data')\"\n",
              "            title=\"Generate code using this dataframe.\"\n",
              "            style=\"display:none;\">\n",
              "\n",
              "  <svg xmlns=\"http://www.w3.org/2000/svg\" height=\"24px\"viewBox=\"0 0 24 24\"\n",
              "       width=\"24px\">\n",
              "    <path d=\"M7,19H8.4L18.45,9,17,7.55,7,17.6ZM5,21V16.75L18.45,3.32a2,2,0,0,1,2.83,0l1.4,1.43a1.91,1.91,0,0,1,.58,1.4,1.91,1.91,0,0,1-.58,1.4L9.25,21ZM18.45,9,17,7.55Zm-12,3A5.31,5.31,0,0,0,4.9,8.1,5.31,5.31,0,0,0,1,6.5,5.31,5.31,0,0,0,4.9,4.9,5.31,5.31,0,0,0,6.5,1,5.31,5.31,0,0,0,8.1,4.9,5.31,5.31,0,0,0,12,6.5,5.46,5.46,0,0,0,6.5,12Z\"/>\n",
              "  </svg>\n",
              "    </button>\n",
              "    <script>\n",
              "      (() => {\n",
              "      const buttonEl =\n",
              "        document.querySelector('#id_227dd02d-0f93-4094-9933-004483c3eb9f button.colab-df-generate');\n",
              "      buttonEl.style.display =\n",
              "        google.colab.kernel.accessAllowed ? 'block' : 'none';\n",
              "\n",
              "      buttonEl.onclick = () => {\n",
              "        google.colab.notebook.generateWithVariable('data');\n",
              "      }\n",
              "      })();\n",
              "    </script>\n",
              "  </div>\n",
              "\n",
              "    </div>\n",
              "  </div>\n"
            ],
            "application/vnd.google.colaboratory.intrinsic+json": {
              "type": "dataframe",
              "variable_name": "data",
              "summary": "{\n  \"name\": \"data\",\n  \"rows\": 25814,\n  \"fields\": [\n    {\n      \"column\": \"Type\",\n      \"properties\": {\n        \"dtype\": \"category\",\n        \"num_unique_values\": 2,\n        \"samples\": [\n          \"e\",\n          \"n\"\n        ],\n        \"semantic_type\": \"\",\n        \"description\": \"\"\n      }\n    },\n    {\n      \"column\": \"Source\",\n      \"properties\": {\n        \"dtype\": \"number\",\n        \"std\": 2830,\n        \"min\": 0,\n        \"max\": 9663,\n        \"num_unique_values\": 9664,\n        \"samples\": [\n          5821,\n          3038\n        ],\n        \"semantic_type\": \"\",\n        \"description\": \"\"\n      }\n    },\n    {\n      \"column\": \"Destination\",\n      \"properties\": {\n        \"dtype\": \"category\",\n        \"num_unique_values\": 11762,\n        \"samples\": [\n          \"http://www.fix.net/~gstroop/index.htm\",\n          \"5275\"\n        ],\n        \"semantic_type\": \"\",\n        \"description\": \"\"\n      }\n    }\n  ]\n}"
            }
          },
          "metadata": {},
          "execution_count": 6
        }
      ],
      "source": [
        "# import the pandas library\n",
        "import pandas\n",
        "\n",
        "# read the txt file into a dataframe\n",
        "data = pandas.read_csv(\"California.txt\", delimiter=' ')\n",
        "\n",
        "# display the dataframe\n",
        "data"
      ]
    },
    {
      "cell_type": "markdown",
      "metadata": {
        "id": "KjqM7Fy_95an"
      },
      "source": [
        "Next, we preprocess the data to extract the adjacency list, drop the all the \"e\" strings in the first column, convert the remaining numerical portion to a `NumPy` array, and store the numbers as integers."
      ]
    },
    {
      "cell_type": "code",
      "execution_count": 7,
      "metadata": {
        "id": "hJc5qMK-95an",
        "outputId": "44e636b7-6edd-4448-eae5-94b56e1f907c",
        "colab": {
          "base_uri": "https://localhost:8080/"
        }
      },
      "outputs": [
        {
          "output_type": "stream",
          "name": "stdout",
          "text": [
            "[[   0  449]\n",
            " [   0  450]\n",
            " [   0  451]\n",
            " ...\n",
            " [9663 7905]\n",
            " [9663   70]\n",
            " [9663 7907]]\n"
          ]
        }
      ],
      "source": [
        "# preprocess the data\n",
        "\n",
        "# select only the rows with type 'e'\n",
        "adjacencies = data.loc[data['Type'] == 'e']\n",
        "\n",
        "# drop the 'Type' column\n",
        "adjacencies = adjacencies.drop(columns = 'Type')\n",
        "\n",
        "# convert the adjacency list to a NumPy array\n",
        "adjacencies = adjacencies.to_numpy()\n",
        "\n",
        "# convert the adjacency list to integers\n",
        "adjacencies = adjacencies.astype('int')\n",
        "\n",
        "# print the adjacency list\n",
        "print(adjacencies)"
      ]
    },
    {
      "cell_type": "markdown",
      "metadata": {
        "id": "QiB8ITsH95an"
      },
      "source": [
        "Next, let’s convert the adjacency list to an adjacency matrix."
      ]
    },
    {
      "cell_type": "code",
      "execution_count": 8,
      "metadata": {
        "id": "q3W39JNe95ao"
      },
      "outputs": [],
      "source": [
        "# convert the adjacency list to an adjacency matrix\n",
        "\n",
        "# find the number of webpages and initialize A\n",
        "N = numpy.max(adjacencies) + 1\n",
        "A = numpy.zeros([N, N])\n",
        "\n",
        "# iterate over the rows of the adjacency list\n",
        "for k in range(adjacencies.shape[0]):\n",
        "    # find the adjacent vertex numbers\n",
        "    i, j = adjacencies[k,]\n",
        "\n",
        "    # put 1 in the adjacency matrix\n",
        "    A[i, j] = 1"
      ]
    },
    {
      "cell_type": "markdown",
      "metadata": {
        "id": "0jDll3KC95ao"
      },
      "source": [
        "Next, we need to convert $\\mathbf{A}$ to the transition probability matrix by dividing each 1 corresponding to an outgoing link by the total number of outgoing links from that webpage. In other words, we divide each row by its row sum."
      ]
    },
    {
      "cell_type": "code",
      "execution_count": 9,
      "metadata": {
        "id": "XDv6ife295ao"
      },
      "outputs": [],
      "source": [
        "# convert A to the transition probability matrix\n",
        "\n",
        "# divide each row of A by its row sum\n",
        "rowSums = A.sum(axis = 1)[:,None]\n",
        "\n",
        "# divide A by the rowSums\n",
        "A = numpy.divide(A, rowSums, where = rowSums != 0)"
      ]
    },
    {
      "cell_type": "markdown",
      "metadata": {
        "id": "cPAOMfOQ95ao"
      },
      "source": [
        "Next, let’s run `PageRank` on this transition probability matrix."
      ]
    },
    {
      "cell_type": "code",
      "execution_count": 10,
      "metadata": {
        "id": "urHACOvA95ao",
        "outputId": "176cdb28-bbb6-4501-8caf-81f2e8b1a447",
        "colab": {
          "base_uri": "https://localhost:8080/"
        }
      },
      "outputs": [
        {
          "output_type": "stream",
          "name": "stdout",
          "text": [
            "[2.79688870e-05 6.29671046e-06 2.06171425e-07 ... 9.48337601e-08\n",
            " 9.48337601e-08 9.48337601e-08]\n",
            "14\n"
          ]
        }
      ],
      "source": [
        "# run PageRank\n",
        "v, i = PageRank(A)\n",
        "\n",
        "# print the steady state PageRank vector and iteration number\n",
        "print(v)\n",
        "print(i)"
      ]
    },
    {
      "cell_type": "markdown",
      "metadata": {
        "id": "GaRXvxg495ao"
      },
      "source": [
        "As we see, feeding this large transition probability matrix of dimensions 9663-by-9663 converges to a steady state PageRank vector in 14 iterations. We will then sort the PageRanks from highest to lowest and save the indices of the sorted list."
      ]
    },
    {
      "cell_type": "code",
      "execution_count": 11,
      "metadata": {
        "id": "EyvIZewX95ao"
      },
      "outputs": [],
      "source": [
        "# sort the PageRanks in ascending order\n",
        "ranks = numpy.argsort(v)\n",
        "\n",
        "# find the PageRanks in descending order\n",
        "ranks = numpy.flip(ranks)"
      ]
    },
    {
      "cell_type": "code",
      "execution_count": 12,
      "metadata": {
        "id": "RC5aGjGk95ao",
        "outputId": "7710e0e8-e25a-4abb-d681-66dfdafc60cc",
        "colab": {
          "base_uri": "https://localhost:8080/"
        }
      },
      "outputs": [
        {
          "output_type": "stream",
          "name": "stdout",
          "text": [
            "[4391 1488  997 ... 5632 5633 9663]\n"
          ]
        }
      ],
      "source": [
        "print(ranks)"
      ]
    },
    {
      "cell_type": "markdown",
      "metadata": {
        "id": "CMMC9tjP95ap"
      },
      "source": [
        "Then, let’s return the top 10 webpages containing the word “California.”"
      ]
    },
    {
      "cell_type": "code",
      "execution_count": 14,
      "metadata": {
        "id": "b0mHOb6G95ap",
        "outputId": "c66ff002-e62b-4fc1-a39f-caabb2741fd8",
        "colab": {
          "base_uri": "https://localhost:8080/",
          "height": 363
        }
      },
      "outputs": [
        {
          "output_type": "execute_result",
          "data": {
            "text/plain": [
              "                                  Destination\n",
              "0                  http://search.ucdavis.edu/\n",
              "1                     http://www.ucdavis.edu/\n",
              "2            http://www.gene.com/ae/bioforum/\n",
              "3                     http://www.lib.uci.edu/\n",
              "4  http://vision.berkeley.edu/VSP/index.shtml\n",
              "5                         http://www.uci.edu/\n",
              "6                http://www.students.ucr.edu/\n",
              "7              http://spectacle.berkeley.edu/\n",
              "8                  http://www.calacademy.org/\n",
              "9                         http://www.scag.org"
            ],
            "text/html": [
              "\n",
              "  <div id=\"df-c39a5375-fd1d-49be-9264-a045b68de7e2\" class=\"colab-df-container\">\n",
              "    <div>\n",
              "<style scoped>\n",
              "    .dataframe tbody tr th:only-of-type {\n",
              "        vertical-align: middle;\n",
              "    }\n",
              "\n",
              "    .dataframe tbody tr th {\n",
              "        vertical-align: top;\n",
              "    }\n",
              "\n",
              "    .dataframe thead th {\n",
              "        text-align: right;\n",
              "    }\n",
              "</style>\n",
              "<table border=\"1\" class=\"dataframe\">\n",
              "  <thead>\n",
              "    <tr style=\"text-align: right;\">\n",
              "      <th></th>\n",
              "      <th>Destination</th>\n",
              "    </tr>\n",
              "  </thead>\n",
              "  <tbody>\n",
              "    <tr>\n",
              "      <th>0</th>\n",
              "      <td>http://search.ucdavis.edu/</td>\n",
              "    </tr>\n",
              "    <tr>\n",
              "      <th>1</th>\n",
              "      <td>http://www.ucdavis.edu/</td>\n",
              "    </tr>\n",
              "    <tr>\n",
              "      <th>2</th>\n",
              "      <td>http://www.gene.com/ae/bioforum/</td>\n",
              "    </tr>\n",
              "    <tr>\n",
              "      <th>3</th>\n",
              "      <td>http://www.lib.uci.edu/</td>\n",
              "    </tr>\n",
              "    <tr>\n",
              "      <th>4</th>\n",
              "      <td>http://vision.berkeley.edu/VSP/index.shtml</td>\n",
              "    </tr>\n",
              "    <tr>\n",
              "      <th>5</th>\n",
              "      <td>http://www.uci.edu/</td>\n",
              "    </tr>\n",
              "    <tr>\n",
              "      <th>6</th>\n",
              "      <td>http://www.students.ucr.edu/</td>\n",
              "    </tr>\n",
              "    <tr>\n",
              "      <th>7</th>\n",
              "      <td>http://spectacle.berkeley.edu/</td>\n",
              "    </tr>\n",
              "    <tr>\n",
              "      <th>8</th>\n",
              "      <td>http://www.calacademy.org/</td>\n",
              "    </tr>\n",
              "    <tr>\n",
              "      <th>9</th>\n",
              "      <td>http://www.scag.org</td>\n",
              "    </tr>\n",
              "  </tbody>\n",
              "</table>\n",
              "</div>\n",
              "    <div class=\"colab-df-buttons\">\n",
              "\n",
              "  <div class=\"colab-df-container\">\n",
              "    <button class=\"colab-df-convert\" onclick=\"convertToInteractive('df-c39a5375-fd1d-49be-9264-a045b68de7e2')\"\n",
              "            title=\"Convert this dataframe to an interactive table.\"\n",
              "            style=\"display:none;\">\n",
              "\n",
              "  <svg xmlns=\"http://www.w3.org/2000/svg\" height=\"24px\" viewBox=\"0 -960 960 960\">\n",
              "    <path d=\"M120-120v-720h720v720H120Zm60-500h600v-160H180v160Zm220 220h160v-160H400v160Zm0 220h160v-160H400v160ZM180-400h160v-160H180v160Zm440 0h160v-160H620v160ZM180-180h160v-160H180v160Zm440 0h160v-160H620v160Z\"/>\n",
              "  </svg>\n",
              "    </button>\n",
              "\n",
              "  <style>\n",
              "    .colab-df-container {\n",
              "      display:flex;\n",
              "      gap: 12px;\n",
              "    }\n",
              "\n",
              "    .colab-df-convert {\n",
              "      background-color: #E8F0FE;\n",
              "      border: none;\n",
              "      border-radius: 50%;\n",
              "      cursor: pointer;\n",
              "      display: none;\n",
              "      fill: #1967D2;\n",
              "      height: 32px;\n",
              "      padding: 0 0 0 0;\n",
              "      width: 32px;\n",
              "    }\n",
              "\n",
              "    .colab-df-convert:hover {\n",
              "      background-color: #E2EBFA;\n",
              "      box-shadow: 0px 1px 2px rgba(60, 64, 67, 0.3), 0px 1px 3px 1px rgba(60, 64, 67, 0.15);\n",
              "      fill: #174EA6;\n",
              "    }\n",
              "\n",
              "    .colab-df-buttons div {\n",
              "      margin-bottom: 4px;\n",
              "    }\n",
              "\n",
              "    [theme=dark] .colab-df-convert {\n",
              "      background-color: #3B4455;\n",
              "      fill: #D2E3FC;\n",
              "    }\n",
              "\n",
              "    [theme=dark] .colab-df-convert:hover {\n",
              "      background-color: #434B5C;\n",
              "      box-shadow: 0px 1px 3px 1px rgba(0, 0, 0, 0.15);\n",
              "      filter: drop-shadow(0px 1px 2px rgba(0, 0, 0, 0.3));\n",
              "      fill: #FFFFFF;\n",
              "    }\n",
              "  </style>\n",
              "\n",
              "    <script>\n",
              "      const buttonEl =\n",
              "        document.querySelector('#df-c39a5375-fd1d-49be-9264-a045b68de7e2 button.colab-df-convert');\n",
              "      buttonEl.style.display =\n",
              "        google.colab.kernel.accessAllowed ? 'block' : 'none';\n",
              "\n",
              "      async function convertToInteractive(key) {\n",
              "        const element = document.querySelector('#df-c39a5375-fd1d-49be-9264-a045b68de7e2');\n",
              "        const dataTable =\n",
              "          await google.colab.kernel.invokeFunction('convertToInteractive',\n",
              "                                                    [key], {});\n",
              "        if (!dataTable) return;\n",
              "\n",
              "        const docLinkHtml = 'Like what you see? Visit the ' +\n",
              "          '<a target=\"_blank\" href=https://colab.research.google.com/notebooks/data_table.ipynb>data table notebook</a>'\n",
              "          + ' to learn more about interactive tables.';\n",
              "        element.innerHTML = '';\n",
              "        dataTable['output_type'] = 'display_data';\n",
              "        await google.colab.output.renderOutput(dataTable, element);\n",
              "        const docLink = document.createElement('div');\n",
              "        docLink.innerHTML = docLinkHtml;\n",
              "        element.appendChild(docLink);\n",
              "      }\n",
              "    </script>\n",
              "  </div>\n",
              "\n",
              "\n",
              "<div id=\"df-c2c8e4d7-f7d9-47ef-935d-d84dd19e8f4b\">\n",
              "  <button class=\"colab-df-quickchart\" onclick=\"quickchart('df-c2c8e4d7-f7d9-47ef-935d-d84dd19e8f4b')\"\n",
              "            title=\"Suggest charts\"\n",
              "            style=\"display:none;\">\n",
              "\n",
              "<svg xmlns=\"http://www.w3.org/2000/svg\" height=\"24px\"viewBox=\"0 0 24 24\"\n",
              "     width=\"24px\">\n",
              "    <g>\n",
              "        <path d=\"M19 3H5c-1.1 0-2 .9-2 2v14c0 1.1.9 2 2 2h14c1.1 0 2-.9 2-2V5c0-1.1-.9-2-2-2zM9 17H7v-7h2v7zm4 0h-2V7h2v10zm4 0h-2v-4h2v4z\"/>\n",
              "    </g>\n",
              "</svg>\n",
              "  </button>\n",
              "\n",
              "<style>\n",
              "  .colab-df-quickchart {\n",
              "      --bg-color: #E8F0FE;\n",
              "      --fill-color: #1967D2;\n",
              "      --hover-bg-color: #E2EBFA;\n",
              "      --hover-fill-color: #174EA6;\n",
              "      --disabled-fill-color: #AAA;\n",
              "      --disabled-bg-color: #DDD;\n",
              "  }\n",
              "\n",
              "  [theme=dark] .colab-df-quickchart {\n",
              "      --bg-color: #3B4455;\n",
              "      --fill-color: #D2E3FC;\n",
              "      --hover-bg-color: #434B5C;\n",
              "      --hover-fill-color: #FFFFFF;\n",
              "      --disabled-bg-color: #3B4455;\n",
              "      --disabled-fill-color: #666;\n",
              "  }\n",
              "\n",
              "  .colab-df-quickchart {\n",
              "    background-color: var(--bg-color);\n",
              "    border: none;\n",
              "    border-radius: 50%;\n",
              "    cursor: pointer;\n",
              "    display: none;\n",
              "    fill: var(--fill-color);\n",
              "    height: 32px;\n",
              "    padding: 0;\n",
              "    width: 32px;\n",
              "  }\n",
              "\n",
              "  .colab-df-quickchart:hover {\n",
              "    background-color: var(--hover-bg-color);\n",
              "    box-shadow: 0 1px 2px rgba(60, 64, 67, 0.3), 0 1px 3px 1px rgba(60, 64, 67, 0.15);\n",
              "    fill: var(--button-hover-fill-color);\n",
              "  }\n",
              "\n",
              "  .colab-df-quickchart-complete:disabled,\n",
              "  .colab-df-quickchart-complete:disabled:hover {\n",
              "    background-color: var(--disabled-bg-color);\n",
              "    fill: var(--disabled-fill-color);\n",
              "    box-shadow: none;\n",
              "  }\n",
              "\n",
              "  .colab-df-spinner {\n",
              "    border: 2px solid var(--fill-color);\n",
              "    border-color: transparent;\n",
              "    border-bottom-color: var(--fill-color);\n",
              "    animation:\n",
              "      spin 1s steps(1) infinite;\n",
              "  }\n",
              "\n",
              "  @keyframes spin {\n",
              "    0% {\n",
              "      border-color: transparent;\n",
              "      border-bottom-color: var(--fill-color);\n",
              "      border-left-color: var(--fill-color);\n",
              "    }\n",
              "    20% {\n",
              "      border-color: transparent;\n",
              "      border-left-color: var(--fill-color);\n",
              "      border-top-color: var(--fill-color);\n",
              "    }\n",
              "    30% {\n",
              "      border-color: transparent;\n",
              "      border-left-color: var(--fill-color);\n",
              "      border-top-color: var(--fill-color);\n",
              "      border-right-color: var(--fill-color);\n",
              "    }\n",
              "    40% {\n",
              "      border-color: transparent;\n",
              "      border-right-color: var(--fill-color);\n",
              "      border-top-color: var(--fill-color);\n",
              "    }\n",
              "    60% {\n",
              "      border-color: transparent;\n",
              "      border-right-color: var(--fill-color);\n",
              "    }\n",
              "    80% {\n",
              "      border-color: transparent;\n",
              "      border-right-color: var(--fill-color);\n",
              "      border-bottom-color: var(--fill-color);\n",
              "    }\n",
              "    90% {\n",
              "      border-color: transparent;\n",
              "      border-bottom-color: var(--fill-color);\n",
              "    }\n",
              "  }\n",
              "</style>\n",
              "\n",
              "  <script>\n",
              "    async function quickchart(key) {\n",
              "      const quickchartButtonEl =\n",
              "        document.querySelector('#' + key + ' button');\n",
              "      quickchartButtonEl.disabled = true;  // To prevent multiple clicks.\n",
              "      quickchartButtonEl.classList.add('colab-df-spinner');\n",
              "      try {\n",
              "        const charts = await google.colab.kernel.invokeFunction(\n",
              "            'suggestCharts', [key], {});\n",
              "      } catch (error) {\n",
              "        console.error('Error during call to suggestCharts:', error);\n",
              "      }\n",
              "      quickchartButtonEl.classList.remove('colab-df-spinner');\n",
              "      quickchartButtonEl.classList.add('colab-df-quickchart-complete');\n",
              "    }\n",
              "    (() => {\n",
              "      let quickchartButtonEl =\n",
              "        document.querySelector('#df-c2c8e4d7-f7d9-47ef-935d-d84dd19e8f4b button');\n",
              "      quickchartButtonEl.style.display =\n",
              "        google.colab.kernel.accessAllowed ? 'block' : 'none';\n",
              "    })();\n",
              "  </script>\n",
              "</div>\n",
              "\n",
              "    </div>\n",
              "  </div>\n"
            ],
            "application/vnd.google.colaboratory.intrinsic+json": {
              "type": "dataframe",
              "summary": "{\n  \"name\": \"rankedPages\",\n  \"rows\": 10,\n  \"fields\": [\n    {\n      \"column\": \"Destination\",\n      \"properties\": {\n        \"dtype\": \"string\",\n        \"num_unique_values\": 10,\n        \"samples\": [\n          \"http://www.calacademy.org/\",\n          \"http://www.ucdavis.edu/\",\n          \"http://www.uci.edu/\"\n        ],\n        \"semantic_type\": \"\",\n        \"description\": \"\"\n      }\n    }\n  ]\n}"
            }
          },
          "metadata": {},
          "execution_count": 14
        }
      ],
      "source": [
        "# return the URLs of the top few webpages\n",
        "rankedPages = []  # Initialize rankedPages as a list\n",
        "\n",
        "# add the top 10-ranked webpages\n",
        "for i in range(10):\n",
        "    row = data.loc[(data['Type'] == 'n')\n",
        "                   & (data['Source'] == ranks[i])]\n",
        "    rankedPages.append(row)  # Append each row to the list\n",
        "\n",
        "# Create a DataFrame from the list of rows\n",
        "rankedPages = pandas.concat(rankedPages, ignore_index=True)\n",
        "\n",
        "# display the top 10\n",
        "rankedPages.drop(columns = ['Type', 'Source'])"
      ]
    }
  ],
  "metadata": {
    "kernelspec": {
      "display_name": "Python 3.7 (DL)",
      "language": "python",
      "name": "dl"
    },
    "language_info": {
      "codemirror_mode": {
        "name": "ipython",
        "version": 3
      },
      "file_extension": ".py",
      "mimetype": "text/x-python",
      "name": "python",
      "nbconvert_exporter": "python",
      "pygments_lexer": "ipython3",
      "version": "3.7.7"
    },
    "colab": {
      "provenance": [],
      "include_colab_link": true
    }
  },
  "nbformat": 4,
  "nbformat_minor": 0
}